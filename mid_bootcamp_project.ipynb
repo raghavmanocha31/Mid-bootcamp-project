{
 "cells": [
  {
   "cell_type": "code",
   "execution_count": 1,
   "id": "bebd9e98",
   "metadata": {},
   "outputs": [],
   "source": [
    "# Analyst: Raghav Manocha\n",
    "# initial coding done in excel\n",
    "# I received 50 responses to my survey\n",
    "# After data cleaning 44 responses were left\n",
    "import pandas as pd\n",
    "import numpy as np\n",
    "import scipy.stats as st\n",
    "import matplotlib.pyplot as plt\n",
    "import seaborn as sns"
   ]
  },
  {
   "cell_type": "code",
   "execution_count": 2,
   "id": "b94258c5",
   "metadata": {},
   "outputs": [],
   "source": [
    "data = pd.read_excel('coded_data.xlsx')"
   ]
  },
  {
   "cell_type": "code",
   "execution_count": 3,
   "id": "923dfbbf",
   "metadata": {},
   "outputs": [
    {
     "data": {
      "text/html": [
       "<div>\n",
       "<style scoped>\n",
       "    .dataframe tbody tr th:only-of-type {\n",
       "        vertical-align: middle;\n",
       "    }\n",
       "\n",
       "    .dataframe tbody tr th {\n",
       "        vertical-align: top;\n",
       "    }\n",
       "\n",
       "    .dataframe thead th {\n",
       "        text-align: right;\n",
       "    }\n",
       "</style>\n",
       "<table border=\"1\" class=\"dataframe\">\n",
       "  <thead>\n",
       "    <tr style=\"text-align: right;\">\n",
       "      <th></th>\n",
       "      <th>Timestamp</th>\n",
       "      <th>Q1ATT</th>\n",
       "      <th>Q2NAME</th>\n",
       "      <th>Q3ONLINE</th>\n",
       "      <th>Q4AGE</th>\n",
       "      <th>Q4AGE_coded</th>\n",
       "      <th>Q5COUNTRY</th>\n",
       "      <th>Q6PRO</th>\n",
       "      <th>Q6PRO_coded</th>\n",
       "      <th>Q7BOOT</th>\n",
       "      <th>...</th>\n",
       "      <th>Q10SKIP</th>\n",
       "      <th>Q11SKIP2</th>\n",
       "      <th>Q12NETW</th>\n",
       "      <th>Q13NETW2</th>\n",
       "      <th>Q14INT</th>\n",
       "      <th>Q15SAT</th>\n",
       "      <th>Q16ENG</th>\n",
       "      <th>Q17ENG2</th>\n",
       "      <th>Q18COURSE</th>\n",
       "      <th>Q19MOT</th>\n",
       "    </tr>\n",
       "  </thead>\n",
       "  <tbody>\n",
       "    <tr>\n",
       "      <th>0</th>\n",
       "      <td>2022/05/30 4:06:57 pm EET</td>\n",
       "      <td>2</td>\n",
       "      <td>NaN</td>\n",
       "      <td>NaN</td>\n",
       "      <td>NaN</td>\n",
       "      <td>NaN</td>\n",
       "      <td>NaN</td>\n",
       "      <td>NaN</td>\n",
       "      <td>NaN</td>\n",
       "      <td>NaN</td>\n",
       "      <td>...</td>\n",
       "      <td>NaN</td>\n",
       "      <td>NaN</td>\n",
       "      <td>NaN</td>\n",
       "      <td>NaN</td>\n",
       "      <td>NaN</td>\n",
       "      <td>NaN</td>\n",
       "      <td>NaN</td>\n",
       "      <td>NaN</td>\n",
       "      <td>NaN</td>\n",
       "      <td>NaN</td>\n",
       "    </tr>\n",
       "    <tr>\n",
       "      <th>1</th>\n",
       "      <td>2022/05/30 5:20:47 pm EET</td>\n",
       "      <td>2</td>\n",
       "      <td>NaN</td>\n",
       "      <td>NaN</td>\n",
       "      <td>NaN</td>\n",
       "      <td>NaN</td>\n",
       "      <td>NaN</td>\n",
       "      <td>NaN</td>\n",
       "      <td>NaN</td>\n",
       "      <td>NaN</td>\n",
       "      <td>...</td>\n",
       "      <td>NaN</td>\n",
       "      <td>NaN</td>\n",
       "      <td>NaN</td>\n",
       "      <td>NaN</td>\n",
       "      <td>NaN</td>\n",
       "      <td>NaN</td>\n",
       "      <td>NaN</td>\n",
       "      <td>NaN</td>\n",
       "      <td>NaN</td>\n",
       "      <td>NaN</td>\n",
       "    </tr>\n",
       "    <tr>\n",
       "      <th>2</th>\n",
       "      <td>2022/05/30 5:24:55 pm EET</td>\n",
       "      <td>1</td>\n",
       "      <td>1.0</td>\n",
       "      <td>1.0</td>\n",
       "      <td>33.0</td>\n",
       "      <td>3.0</td>\n",
       "      <td>3.0</td>\n",
       "      <td>Freelancer</td>\n",
       "      <td>2.0</td>\n",
       "      <td>1.0</td>\n",
       "      <td>...</td>\n",
       "      <td>4.0</td>\n",
       "      <td>4.0</td>\n",
       "      <td>4.0</td>\n",
       "      <td>4.0</td>\n",
       "      <td>5.0</td>\n",
       "      <td>4.0</td>\n",
       "      <td>4.0</td>\n",
       "      <td>4.0</td>\n",
       "      <td>4.0</td>\n",
       "      <td>4.0</td>\n",
       "    </tr>\n",
       "    <tr>\n",
       "      <th>3</th>\n",
       "      <td>2022/05/30 5:53:16 pm EET</td>\n",
       "      <td>1</td>\n",
       "      <td>1.0</td>\n",
       "      <td>1.0</td>\n",
       "      <td>24.0</td>\n",
       "      <td>1.0</td>\n",
       "      <td>2.0</td>\n",
       "      <td>Student</td>\n",
       "      <td>2.0</td>\n",
       "      <td>1.0</td>\n",
       "      <td>...</td>\n",
       "      <td>4.0</td>\n",
       "      <td>4.0</td>\n",
       "      <td>5.0</td>\n",
       "      <td>4.0</td>\n",
       "      <td>5.0</td>\n",
       "      <td>5.0</td>\n",
       "      <td>5.0</td>\n",
       "      <td>5.0</td>\n",
       "      <td>4.0</td>\n",
       "      <td>5.0</td>\n",
       "    </tr>\n",
       "    <tr>\n",
       "      <th>4</th>\n",
       "      <td>2022/05/30 6:02:10 pm EET</td>\n",
       "      <td>1</td>\n",
       "      <td>1.0</td>\n",
       "      <td>2.0</td>\n",
       "      <td>27.0</td>\n",
       "      <td>2.0</td>\n",
       "      <td>1.0</td>\n",
       "      <td>Data analyst</td>\n",
       "      <td>1.0</td>\n",
       "      <td>1.0</td>\n",
       "      <td>...</td>\n",
       "      <td>5.0</td>\n",
       "      <td>4.0</td>\n",
       "      <td>5.0</td>\n",
       "      <td>5.0</td>\n",
       "      <td>5.0</td>\n",
       "      <td>5.0</td>\n",
       "      <td>4.0</td>\n",
       "      <td>5.0</td>\n",
       "      <td>5.0</td>\n",
       "      <td>5.0</td>\n",
       "    </tr>\n",
       "  </tbody>\n",
       "</table>\n",
       "<p>5 rows × 22 columns</p>\n",
       "</div>"
      ],
      "text/plain": [
       "                   Timestamp  Q1ATT  Q2NAME  Q3ONLINE  Q4AGE  Q4AGE_coded  \\\n",
       "0  2022/05/30 4:06:57 pm EET      2     NaN       NaN    NaN          NaN   \n",
       "1  2022/05/30 5:20:47 pm EET      2     NaN       NaN    NaN          NaN   \n",
       "2  2022/05/30 5:24:55 pm EET      1     1.0       1.0   33.0          3.0   \n",
       "3  2022/05/30 5:53:16 pm EET      1     1.0       1.0   24.0          1.0   \n",
       "4  2022/05/30 6:02:10 pm EET      1     1.0       2.0   27.0          2.0   \n",
       "\n",
       "   Q5COUNTRY         Q6PRO  Q6PRO_coded  Q7BOOT  ...  Q10SKIP  Q11SKIP2  \\\n",
       "0        NaN           NaN          NaN     NaN  ...      NaN       NaN   \n",
       "1        NaN           NaN          NaN     NaN  ...      NaN       NaN   \n",
       "2        3.0    Freelancer          2.0     1.0  ...      4.0       4.0   \n",
       "3        2.0       Student          2.0     1.0  ...      4.0       4.0   \n",
       "4        1.0  Data analyst          1.0     1.0  ...      5.0       4.0   \n",
       "\n",
       "   Q12NETW  Q13NETW2  Q14INT  Q15SAT  Q16ENG  Q17ENG2  Q18COURSE  Q19MOT  \n",
       "0      NaN       NaN     NaN     NaN     NaN      NaN        NaN     NaN  \n",
       "1      NaN       NaN     NaN     NaN     NaN      NaN        NaN     NaN  \n",
       "2      4.0       4.0     5.0     4.0     4.0      4.0        4.0     4.0  \n",
       "3      5.0       4.0     5.0     5.0     5.0      5.0        4.0     5.0  \n",
       "4      5.0       5.0     5.0     5.0     4.0      5.0        5.0     5.0  \n",
       "\n",
       "[5 rows x 22 columns]"
      ]
     },
     "execution_count": 3,
     "metadata": {},
     "output_type": "execute_result"
    }
   ],
   "source": [
    "data.head()"
   ]
  },
  {
   "cell_type": "code",
   "execution_count": 4,
   "id": "2526f35a",
   "metadata": {},
   "outputs": [
    {
     "data": {
      "text/plain": [
       "(50, 22)"
      ]
     },
     "execution_count": 4,
     "metadata": {},
     "output_type": "execute_result"
    }
   ],
   "source": [
    "data.shape"
   ]
  },
  {
   "cell_type": "code",
   "execution_count": 5,
   "id": "9c7d02f2",
   "metadata": {},
   "outputs": [
    {
     "name": "stdout",
     "output_type": "stream",
     "text": [
      "<class 'pandas.core.frame.DataFrame'>\n",
      "RangeIndex: 50 entries, 0 to 49\n",
      "Data columns (total 22 columns):\n",
      " #   Column       Non-Null Count  Dtype  \n",
      "---  ------       --------------  -----  \n",
      " 0   Timestamp    50 non-null     object \n",
      " 1   Q1ATT        50 non-null     int64  \n",
      " 2   Q2NAME       44 non-null     float64\n",
      " 3   Q3ONLINE     46 non-null     float64\n",
      " 4   Q4AGE        46 non-null     float64\n",
      " 5   Q4AGE_coded  46 non-null     float64\n",
      " 6   Q5COUNTRY    45 non-null     float64\n",
      " 7   Q6PRO        46 non-null     object \n",
      " 8   Q6PRO_coded  46 non-null     float64\n",
      " 9   Q7BOOT       46 non-null     float64\n",
      " 10  Q8GEN        46 non-null     float64\n",
      " 11  Q9EDU        46 non-null     float64\n",
      " 12  Q10SKIP      46 non-null     float64\n",
      " 13  Q11SKIP2     46 non-null     float64\n",
      " 14  Q12NETW      46 non-null     float64\n",
      " 15  Q13NETW2     46 non-null     float64\n",
      " 16  Q14INT       46 non-null     float64\n",
      " 17  Q15SAT       46 non-null     float64\n",
      " 18  Q16ENG       46 non-null     float64\n",
      " 19  Q17ENG2      46 non-null     float64\n",
      " 20  Q18COURSE    46 non-null     float64\n",
      " 21  Q19MOT       46 non-null     float64\n",
      "dtypes: float64(19), int64(1), object(2)\n",
      "memory usage: 8.7+ KB\n"
     ]
    }
   ],
   "source": [
    "data.info()"
   ]
  },
  {
   "cell_type": "code",
   "execution_count": 6,
   "id": "f50d6d6e",
   "metadata": {},
   "outputs": [
    {
     "data": {
      "text/plain": [
       "Timestamp      0\n",
       "Q1ATT          0\n",
       "Q2NAME         6\n",
       "Q3ONLINE       4\n",
       "Q4AGE          4\n",
       "Q4AGE_coded    4\n",
       "Q5COUNTRY      5\n",
       "Q6PRO          4\n",
       "Q6PRO_coded    4\n",
       "Q7BOOT         4\n",
       "Q8GEN          4\n",
       "Q9EDU          4\n",
       "Q10SKIP        4\n",
       "Q11SKIP2       4\n",
       "Q12NETW        4\n",
       "Q13NETW2       4\n",
       "Q14INT         4\n",
       "Q15SAT         4\n",
       "Q16ENG         4\n",
       "Q17ENG2        4\n",
       "Q18COURSE      4\n",
       "Q19MOT         4\n",
       "dtype: int64"
      ]
     },
     "execution_count": 6,
     "metadata": {},
     "output_type": "execute_result"
    }
   ],
   "source": [
    "data.isnull().sum()"
   ]
  },
  {
   "cell_type": "code",
   "execution_count": 7,
   "id": "067e4075",
   "metadata": {},
   "outputs": [],
   "source": [
    "data_without_null = data.dropna()"
   ]
  },
  {
   "cell_type": "code",
   "execution_count": 8,
   "id": "622920ac",
   "metadata": {},
   "outputs": [
    {
     "name": "stdout",
     "output_type": "stream",
     "text": [
      "<class 'pandas.core.frame.DataFrame'>\n",
      "Int64Index: 44 entries, 2 to 49\n",
      "Data columns (total 22 columns):\n",
      " #   Column       Non-Null Count  Dtype  \n",
      "---  ------       --------------  -----  \n",
      " 0   Timestamp    44 non-null     object \n",
      " 1   Q1ATT        44 non-null     int64  \n",
      " 2   Q2NAME       44 non-null     float64\n",
      " 3   Q3ONLINE     44 non-null     float64\n",
      " 4   Q4AGE        44 non-null     float64\n",
      " 5   Q4AGE_coded  44 non-null     float64\n",
      " 6   Q5COUNTRY    44 non-null     float64\n",
      " 7   Q6PRO        44 non-null     object \n",
      " 8   Q6PRO_coded  44 non-null     float64\n",
      " 9   Q7BOOT       44 non-null     float64\n",
      " 10  Q8GEN        44 non-null     float64\n",
      " 11  Q9EDU        44 non-null     float64\n",
      " 12  Q10SKIP      44 non-null     float64\n",
      " 13  Q11SKIP2     44 non-null     float64\n",
      " 14  Q12NETW      44 non-null     float64\n",
      " 15  Q13NETW2     44 non-null     float64\n",
      " 16  Q14INT       44 non-null     float64\n",
      " 17  Q15SAT       44 non-null     float64\n",
      " 18  Q16ENG       44 non-null     float64\n",
      " 19  Q17ENG2      44 non-null     float64\n",
      " 20  Q18COURSE    44 non-null     float64\n",
      " 21  Q19MOT       44 non-null     float64\n",
      "dtypes: float64(19), int64(1), object(2)\n",
      "memory usage: 7.9+ KB\n"
     ]
    }
   ],
   "source": [
    "data_without_null.info()"
   ]
  },
  {
   "cell_type": "code",
   "execution_count": 13,
   "id": "72de9383",
   "metadata": {},
   "outputs": [],
   "source": [
    "#Dictionaries for remaping values\n",
    "dict_att = {1: 'Yes', 2: 'No'}\n",
    "dict_name = {1: 'Ironhack', 2: 'Other'}\n",
    "dict_online = {1: 'Online', 2: 'Offline'}\n",
    "dict_age_coded = {1: '20-25', 2: '25-30', 3: '30-35', 4: '35-40', 5: '40-45', 6: '45-50'}\n",
    "dict_country = {1:'Portugal', 2:'Spain', 3:'France', 4:'Netherlands', 5:'Germany', 6:'Italy', 7:'UK', 8:'Ireland', 9:'USA', 10:'Mexico', 11:'Brazil', 12:'India', 13:'Indonesia'}\n",
    "dict_pro_coded = {1:'Tech and Data related', 2:'Other'}\n",
    "dict_boot= {1:'Data Analytics', 2: 'Cyber Security', 3: 'Web development', 4: 'UX/UI Design', 5: 'Other'}\n",
    "dict_gen= {1:'Female', 2:'Male', 3:'Non Binary', 4:'Prefer not to say'}\n",
    "dict_edu= {1:'High School', 2:\"Bachelor's Degree\", 3:\"Master's Degree\", 4:'MPhil', 5:'PhD'}"
   ]
  },
  {
   "cell_type": "code",
   "execution_count": 14,
   "id": "93b129d7",
   "metadata": {},
   "outputs": [],
   "source": [
    "data2 = data_without_null.replace({\"Q1ATT\":dict_att, \"Q2NAME\":dict_name,\"Q3ONLINE\":dict_online, \"Q4AGE_coded\":dict_age_coded, \"Q5COUNTRY\": dict_country,\"Q6PRO_coded\":dict_pro_coded, \"Q7BOOT\":dict_boot, \"Q8GEN\":dict_gen, \"Q9EDU\":dict_edu})"
   ]
  },
  {
   "cell_type": "code",
   "execution_count": 15,
   "id": "06497459",
   "metadata": {},
   "outputs": [
    {
     "data": {
      "text/html": [
       "<div>\n",
       "<style scoped>\n",
       "    .dataframe tbody tr th:only-of-type {\n",
       "        vertical-align: middle;\n",
       "    }\n",
       "\n",
       "    .dataframe tbody tr th {\n",
       "        vertical-align: top;\n",
       "    }\n",
       "\n",
       "    .dataframe thead th {\n",
       "        text-align: right;\n",
       "    }\n",
       "</style>\n",
       "<table border=\"1\" class=\"dataframe\">\n",
       "  <thead>\n",
       "    <tr style=\"text-align: right;\">\n",
       "      <th></th>\n",
       "      <th>Timestamp</th>\n",
       "      <th>Q1ATT</th>\n",
       "      <th>Q2NAME</th>\n",
       "      <th>Q3ONLINE</th>\n",
       "      <th>Q4AGE</th>\n",
       "      <th>Q4AGE_coded</th>\n",
       "      <th>Q5COUNTRY</th>\n",
       "      <th>Q6PRO</th>\n",
       "      <th>Q6PRO_coded</th>\n",
       "      <th>Q7BOOT</th>\n",
       "      <th>...</th>\n",
       "      <th>Q10SKIP</th>\n",
       "      <th>Q11SKIP2</th>\n",
       "      <th>Q12NETW</th>\n",
       "      <th>Q13NETW2</th>\n",
       "      <th>Q14INT</th>\n",
       "      <th>Q15SAT</th>\n",
       "      <th>Q16ENG</th>\n",
       "      <th>Q17ENG2</th>\n",
       "      <th>Q18COURSE</th>\n",
       "      <th>Q19MOT</th>\n",
       "    </tr>\n",
       "  </thead>\n",
       "  <tbody>\n",
       "    <tr>\n",
       "      <th>2</th>\n",
       "      <td>2022/05/30 5:24:55 pm EET</td>\n",
       "      <td>Yes</td>\n",
       "      <td>Ironhack</td>\n",
       "      <td>Online</td>\n",
       "      <td>33.0</td>\n",
       "      <td>30-35</td>\n",
       "      <td>France</td>\n",
       "      <td>Freelancer</td>\n",
       "      <td>Other</td>\n",
       "      <td>Data Analytics</td>\n",
       "      <td>...</td>\n",
       "      <td>4.0</td>\n",
       "      <td>4.0</td>\n",
       "      <td>4.0</td>\n",
       "      <td>4.0</td>\n",
       "      <td>5.0</td>\n",
       "      <td>4.0</td>\n",
       "      <td>4.0</td>\n",
       "      <td>4.0</td>\n",
       "      <td>4.0</td>\n",
       "      <td>4.0</td>\n",
       "    </tr>\n",
       "    <tr>\n",
       "      <th>3</th>\n",
       "      <td>2022/05/30 5:53:16 pm EET</td>\n",
       "      <td>Yes</td>\n",
       "      <td>Ironhack</td>\n",
       "      <td>Online</td>\n",
       "      <td>24.0</td>\n",
       "      <td>20-25</td>\n",
       "      <td>Spain</td>\n",
       "      <td>Student</td>\n",
       "      <td>Other</td>\n",
       "      <td>Data Analytics</td>\n",
       "      <td>...</td>\n",
       "      <td>4.0</td>\n",
       "      <td>4.0</td>\n",
       "      <td>5.0</td>\n",
       "      <td>4.0</td>\n",
       "      <td>5.0</td>\n",
       "      <td>5.0</td>\n",
       "      <td>5.0</td>\n",
       "      <td>5.0</td>\n",
       "      <td>4.0</td>\n",
       "      <td>5.0</td>\n",
       "    </tr>\n",
       "    <tr>\n",
       "      <th>4</th>\n",
       "      <td>2022/05/30 6:02:10 pm EET</td>\n",
       "      <td>Yes</td>\n",
       "      <td>Ironhack</td>\n",
       "      <td>Offline</td>\n",
       "      <td>27.0</td>\n",
       "      <td>25-30</td>\n",
       "      <td>Portugal</td>\n",
       "      <td>Data analyst</td>\n",
       "      <td>Tech and Data related</td>\n",
       "      <td>Data Analytics</td>\n",
       "      <td>...</td>\n",
       "      <td>5.0</td>\n",
       "      <td>4.0</td>\n",
       "      <td>5.0</td>\n",
       "      <td>5.0</td>\n",
       "      <td>5.0</td>\n",
       "      <td>5.0</td>\n",
       "      <td>4.0</td>\n",
       "      <td>5.0</td>\n",
       "      <td>5.0</td>\n",
       "      <td>5.0</td>\n",
       "    </tr>\n",
       "    <tr>\n",
       "      <th>5</th>\n",
       "      <td>2022/05/30 6:27:06 pm EET</td>\n",
       "      <td>Yes</td>\n",
       "      <td>Ironhack</td>\n",
       "      <td>Online</td>\n",
       "      <td>34.0</td>\n",
       "      <td>30-35</td>\n",
       "      <td>Spain</td>\n",
       "      <td>Student</td>\n",
       "      <td>Other</td>\n",
       "      <td>Data Analytics</td>\n",
       "      <td>...</td>\n",
       "      <td>4.0</td>\n",
       "      <td>4.0</td>\n",
       "      <td>4.0</td>\n",
       "      <td>4.0</td>\n",
       "      <td>5.0</td>\n",
       "      <td>4.0</td>\n",
       "      <td>4.0</td>\n",
       "      <td>2.0</td>\n",
       "      <td>3.0</td>\n",
       "      <td>3.0</td>\n",
       "    </tr>\n",
       "    <tr>\n",
       "      <th>6</th>\n",
       "      <td>2022/05/30 6:31:26 pm EET</td>\n",
       "      <td>Yes</td>\n",
       "      <td>Ironhack</td>\n",
       "      <td>Online</td>\n",
       "      <td>33.0</td>\n",
       "      <td>30-35</td>\n",
       "      <td>Ireland</td>\n",
       "      <td>IT Sales</td>\n",
       "      <td>Other</td>\n",
       "      <td>Data Analytics</td>\n",
       "      <td>...</td>\n",
       "      <td>5.0</td>\n",
       "      <td>5.0</td>\n",
       "      <td>4.0</td>\n",
       "      <td>4.0</td>\n",
       "      <td>5.0</td>\n",
       "      <td>5.0</td>\n",
       "      <td>4.0</td>\n",
       "      <td>5.0</td>\n",
       "      <td>4.0</td>\n",
       "      <td>5.0</td>\n",
       "    </tr>\n",
       "  </tbody>\n",
       "</table>\n",
       "<p>5 rows × 22 columns</p>\n",
       "</div>"
      ],
      "text/plain": [
       "                   Timestamp Q1ATT    Q2NAME Q3ONLINE  Q4AGE Q4AGE_coded  \\\n",
       "2  2022/05/30 5:24:55 pm EET   Yes  Ironhack   Online   33.0       30-35   \n",
       "3  2022/05/30 5:53:16 pm EET   Yes  Ironhack   Online   24.0       20-25   \n",
       "4  2022/05/30 6:02:10 pm EET   Yes  Ironhack  Offline   27.0       25-30   \n",
       "5  2022/05/30 6:27:06 pm EET   Yes  Ironhack   Online   34.0       30-35   \n",
       "6  2022/05/30 6:31:26 pm EET   Yes  Ironhack   Online   33.0       30-35   \n",
       "\n",
       "  Q5COUNTRY         Q6PRO            Q6PRO_coded          Q7BOOT  ... Q10SKIP  \\\n",
       "2    France    Freelancer                  Other  Data Analytics  ...     4.0   \n",
       "3     Spain       Student                  Other  Data Analytics  ...     4.0   \n",
       "4  Portugal  Data analyst  Tech and Data related  Data Analytics  ...     5.0   \n",
       "5     Spain       Student                  Other  Data Analytics  ...     4.0   \n",
       "6   Ireland      IT Sales                  Other  Data Analytics  ...     5.0   \n",
       "\n",
       "  Q11SKIP2  Q12NETW  Q13NETW2  Q14INT  Q15SAT  Q16ENG  Q17ENG2  Q18COURSE  \\\n",
       "2      4.0      4.0       4.0     5.0     4.0     4.0      4.0        4.0   \n",
       "3      4.0      5.0       4.0     5.0     5.0     5.0      5.0        4.0   \n",
       "4      4.0      5.0       5.0     5.0     5.0     4.0      5.0        5.0   \n",
       "5      4.0      4.0       4.0     5.0     4.0     4.0      2.0        3.0   \n",
       "6      5.0      4.0       4.0     5.0     5.0     4.0      5.0        4.0   \n",
       "\n",
       "   Q19MOT  \n",
       "2     4.0  \n",
       "3     5.0  \n",
       "4     5.0  \n",
       "5     3.0  \n",
       "6     5.0  \n",
       "\n",
       "[5 rows x 22 columns]"
      ]
     },
     "execution_count": 15,
     "metadata": {},
     "output_type": "execute_result"
    }
   ],
   "source": [
    "data2.head()"
   ]
  },
  {
   "cell_type": "code",
   "execution_count": 16,
   "id": "e06d3eb0",
   "metadata": {},
   "outputs": [],
   "source": [
    "data2['Skip_Final']= (data2['Q10SKIP'] + data2['Q11SKIP2'])/2"
   ]
  },
  {
   "cell_type": "code",
   "execution_count": 17,
   "id": "88e91bd3",
   "metadata": {},
   "outputs": [
    {
     "data": {
      "text/html": [
       "<div>\n",
       "<style scoped>\n",
       "    .dataframe tbody tr th:only-of-type {\n",
       "        vertical-align: middle;\n",
       "    }\n",
       "\n",
       "    .dataframe tbody tr th {\n",
       "        vertical-align: top;\n",
       "    }\n",
       "\n",
       "    .dataframe thead th {\n",
       "        text-align: right;\n",
       "    }\n",
       "</style>\n",
       "<table border=\"1\" class=\"dataframe\">\n",
       "  <thead>\n",
       "    <tr style=\"text-align: right;\">\n",
       "      <th></th>\n",
       "      <th>Timestamp</th>\n",
       "      <th>Q1ATT</th>\n",
       "      <th>Q2NAME</th>\n",
       "      <th>Q3ONLINE</th>\n",
       "      <th>Q4AGE</th>\n",
       "      <th>Q4AGE_coded</th>\n",
       "      <th>Q5COUNTRY</th>\n",
       "      <th>Q6PRO</th>\n",
       "      <th>Q6PRO_coded</th>\n",
       "      <th>Q7BOOT</th>\n",
       "      <th>...</th>\n",
       "      <th>Q11SKIP2</th>\n",
       "      <th>Q12NETW</th>\n",
       "      <th>Q13NETW2</th>\n",
       "      <th>Q14INT</th>\n",
       "      <th>Q15SAT</th>\n",
       "      <th>Q16ENG</th>\n",
       "      <th>Q17ENG2</th>\n",
       "      <th>Q18COURSE</th>\n",
       "      <th>Q19MOT</th>\n",
       "      <th>Skip_Final</th>\n",
       "    </tr>\n",
       "  </thead>\n",
       "  <tbody>\n",
       "    <tr>\n",
       "      <th>2</th>\n",
       "      <td>2022/05/30 5:24:55 pm EET</td>\n",
       "      <td>Yes</td>\n",
       "      <td>Ironhack</td>\n",
       "      <td>Online</td>\n",
       "      <td>33.0</td>\n",
       "      <td>30-35</td>\n",
       "      <td>France</td>\n",
       "      <td>Freelancer</td>\n",
       "      <td>Other</td>\n",
       "      <td>Data Analytics</td>\n",
       "      <td>...</td>\n",
       "      <td>4.0</td>\n",
       "      <td>4.0</td>\n",
       "      <td>4.0</td>\n",
       "      <td>5.0</td>\n",
       "      <td>4.0</td>\n",
       "      <td>4.0</td>\n",
       "      <td>4.0</td>\n",
       "      <td>4.0</td>\n",
       "      <td>4.0</td>\n",
       "      <td>4.0</td>\n",
       "    </tr>\n",
       "    <tr>\n",
       "      <th>3</th>\n",
       "      <td>2022/05/30 5:53:16 pm EET</td>\n",
       "      <td>Yes</td>\n",
       "      <td>Ironhack</td>\n",
       "      <td>Online</td>\n",
       "      <td>24.0</td>\n",
       "      <td>20-25</td>\n",
       "      <td>Spain</td>\n",
       "      <td>Student</td>\n",
       "      <td>Other</td>\n",
       "      <td>Data Analytics</td>\n",
       "      <td>...</td>\n",
       "      <td>4.0</td>\n",
       "      <td>5.0</td>\n",
       "      <td>4.0</td>\n",
       "      <td>5.0</td>\n",
       "      <td>5.0</td>\n",
       "      <td>5.0</td>\n",
       "      <td>5.0</td>\n",
       "      <td>4.0</td>\n",
       "      <td>5.0</td>\n",
       "      <td>4.0</td>\n",
       "    </tr>\n",
       "    <tr>\n",
       "      <th>4</th>\n",
       "      <td>2022/05/30 6:02:10 pm EET</td>\n",
       "      <td>Yes</td>\n",
       "      <td>Ironhack</td>\n",
       "      <td>Offline</td>\n",
       "      <td>27.0</td>\n",
       "      <td>25-30</td>\n",
       "      <td>Portugal</td>\n",
       "      <td>Data analyst</td>\n",
       "      <td>Tech and Data related</td>\n",
       "      <td>Data Analytics</td>\n",
       "      <td>...</td>\n",
       "      <td>4.0</td>\n",
       "      <td>5.0</td>\n",
       "      <td>5.0</td>\n",
       "      <td>5.0</td>\n",
       "      <td>5.0</td>\n",
       "      <td>4.0</td>\n",
       "      <td>5.0</td>\n",
       "      <td>5.0</td>\n",
       "      <td>5.0</td>\n",
       "      <td>4.5</td>\n",
       "    </tr>\n",
       "    <tr>\n",
       "      <th>5</th>\n",
       "      <td>2022/05/30 6:27:06 pm EET</td>\n",
       "      <td>Yes</td>\n",
       "      <td>Ironhack</td>\n",
       "      <td>Online</td>\n",
       "      <td>34.0</td>\n",
       "      <td>30-35</td>\n",
       "      <td>Spain</td>\n",
       "      <td>Student</td>\n",
       "      <td>Other</td>\n",
       "      <td>Data Analytics</td>\n",
       "      <td>...</td>\n",
       "      <td>4.0</td>\n",
       "      <td>4.0</td>\n",
       "      <td>4.0</td>\n",
       "      <td>5.0</td>\n",
       "      <td>4.0</td>\n",
       "      <td>4.0</td>\n",
       "      <td>2.0</td>\n",
       "      <td>3.0</td>\n",
       "      <td>3.0</td>\n",
       "      <td>4.0</td>\n",
       "    </tr>\n",
       "    <tr>\n",
       "      <th>6</th>\n",
       "      <td>2022/05/30 6:31:26 pm EET</td>\n",
       "      <td>Yes</td>\n",
       "      <td>Ironhack</td>\n",
       "      <td>Online</td>\n",
       "      <td>33.0</td>\n",
       "      <td>30-35</td>\n",
       "      <td>Ireland</td>\n",
       "      <td>IT Sales</td>\n",
       "      <td>Other</td>\n",
       "      <td>Data Analytics</td>\n",
       "      <td>...</td>\n",
       "      <td>5.0</td>\n",
       "      <td>4.0</td>\n",
       "      <td>4.0</td>\n",
       "      <td>5.0</td>\n",
       "      <td>5.0</td>\n",
       "      <td>4.0</td>\n",
       "      <td>5.0</td>\n",
       "      <td>4.0</td>\n",
       "      <td>5.0</td>\n",
       "      <td>5.0</td>\n",
       "    </tr>\n",
       "  </tbody>\n",
       "</table>\n",
       "<p>5 rows × 23 columns</p>\n",
       "</div>"
      ],
      "text/plain": [
       "                   Timestamp Q1ATT    Q2NAME Q3ONLINE  Q4AGE Q4AGE_coded  \\\n",
       "2  2022/05/30 5:24:55 pm EET   Yes  Ironhack   Online   33.0       30-35   \n",
       "3  2022/05/30 5:53:16 pm EET   Yes  Ironhack   Online   24.0       20-25   \n",
       "4  2022/05/30 6:02:10 pm EET   Yes  Ironhack  Offline   27.0       25-30   \n",
       "5  2022/05/30 6:27:06 pm EET   Yes  Ironhack   Online   34.0       30-35   \n",
       "6  2022/05/30 6:31:26 pm EET   Yes  Ironhack   Online   33.0       30-35   \n",
       "\n",
       "  Q5COUNTRY         Q6PRO            Q6PRO_coded          Q7BOOT  ...  \\\n",
       "2    France    Freelancer                  Other  Data Analytics  ...   \n",
       "3     Spain       Student                  Other  Data Analytics  ...   \n",
       "4  Portugal  Data analyst  Tech and Data related  Data Analytics  ...   \n",
       "5     Spain       Student                  Other  Data Analytics  ...   \n",
       "6   Ireland      IT Sales                  Other  Data Analytics  ...   \n",
       "\n",
       "  Q11SKIP2 Q12NETW  Q13NETW2  Q14INT  Q15SAT  Q16ENG  Q17ENG2  Q18COURSE  \\\n",
       "2      4.0     4.0       4.0     5.0     4.0     4.0      4.0        4.0   \n",
       "3      4.0     5.0       4.0     5.0     5.0     5.0      5.0        4.0   \n",
       "4      4.0     5.0       5.0     5.0     5.0     4.0      5.0        5.0   \n",
       "5      4.0     4.0       4.0     5.0     4.0     4.0      2.0        3.0   \n",
       "6      5.0     4.0       4.0     5.0     5.0     4.0      5.0        4.0   \n",
       "\n",
       "   Q19MOT  Skip_Final  \n",
       "2     4.0         4.0  \n",
       "3     5.0         4.0  \n",
       "4     5.0         4.5  \n",
       "5     3.0         4.0  \n",
       "6     5.0         5.0  \n",
       "\n",
       "[5 rows x 23 columns]"
      ]
     },
     "execution_count": 17,
     "metadata": {},
     "output_type": "execute_result"
    }
   ],
   "source": [
    "data2.head()"
   ]
  },
  {
   "cell_type": "code",
   "execution_count": 18,
   "id": "9a170f07",
   "metadata": {},
   "outputs": [],
   "source": [
    "data2['Netw_Final']= (data2['Q12NETW'] + data2['Q13NETW2'])/2\n",
    "data2['Eng_Final']= (data2['Q16ENG'] + data2['Q17ENG2'])/2"
   ]
  },
  {
   "cell_type": "code",
   "execution_count": 19,
   "id": "2603f23b",
   "metadata": {},
   "outputs": [
    {
     "data": {
      "text/html": [
       "<div>\n",
       "<style scoped>\n",
       "    .dataframe tbody tr th:only-of-type {\n",
       "        vertical-align: middle;\n",
       "    }\n",
       "\n",
       "    .dataframe tbody tr th {\n",
       "        vertical-align: top;\n",
       "    }\n",
       "\n",
       "    .dataframe thead th {\n",
       "        text-align: right;\n",
       "    }\n",
       "</style>\n",
       "<table border=\"1\" class=\"dataframe\">\n",
       "  <thead>\n",
       "    <tr style=\"text-align: right;\">\n",
       "      <th></th>\n",
       "      <th>Timestamp</th>\n",
       "      <th>Q1ATT</th>\n",
       "      <th>Q2NAME</th>\n",
       "      <th>Q3ONLINE</th>\n",
       "      <th>Q4AGE</th>\n",
       "      <th>Q4AGE_coded</th>\n",
       "      <th>Q5COUNTRY</th>\n",
       "      <th>Q6PRO</th>\n",
       "      <th>Q6PRO_coded</th>\n",
       "      <th>Q7BOOT</th>\n",
       "      <th>...</th>\n",
       "      <th>Q13NETW2</th>\n",
       "      <th>Q14INT</th>\n",
       "      <th>Q15SAT</th>\n",
       "      <th>Q16ENG</th>\n",
       "      <th>Q17ENG2</th>\n",
       "      <th>Q18COURSE</th>\n",
       "      <th>Q19MOT</th>\n",
       "      <th>Skip_Final</th>\n",
       "      <th>Netw_Final</th>\n",
       "      <th>Eng_Final</th>\n",
       "    </tr>\n",
       "  </thead>\n",
       "  <tbody>\n",
       "    <tr>\n",
       "      <th>2</th>\n",
       "      <td>2022/05/30 5:24:55 pm EET</td>\n",
       "      <td>Yes</td>\n",
       "      <td>Ironhack</td>\n",
       "      <td>Online</td>\n",
       "      <td>33.0</td>\n",
       "      <td>30-35</td>\n",
       "      <td>France</td>\n",
       "      <td>Freelancer</td>\n",
       "      <td>Other</td>\n",
       "      <td>Data Analytics</td>\n",
       "      <td>...</td>\n",
       "      <td>4.0</td>\n",
       "      <td>5.0</td>\n",
       "      <td>4.0</td>\n",
       "      <td>4.0</td>\n",
       "      <td>4.0</td>\n",
       "      <td>4.0</td>\n",
       "      <td>4.0</td>\n",
       "      <td>4.0</td>\n",
       "      <td>4.0</td>\n",
       "      <td>4.0</td>\n",
       "    </tr>\n",
       "    <tr>\n",
       "      <th>3</th>\n",
       "      <td>2022/05/30 5:53:16 pm EET</td>\n",
       "      <td>Yes</td>\n",
       "      <td>Ironhack</td>\n",
       "      <td>Online</td>\n",
       "      <td>24.0</td>\n",
       "      <td>20-25</td>\n",
       "      <td>Spain</td>\n",
       "      <td>Student</td>\n",
       "      <td>Other</td>\n",
       "      <td>Data Analytics</td>\n",
       "      <td>...</td>\n",
       "      <td>4.0</td>\n",
       "      <td>5.0</td>\n",
       "      <td>5.0</td>\n",
       "      <td>5.0</td>\n",
       "      <td>5.0</td>\n",
       "      <td>4.0</td>\n",
       "      <td>5.0</td>\n",
       "      <td>4.0</td>\n",
       "      <td>4.5</td>\n",
       "      <td>5.0</td>\n",
       "    </tr>\n",
       "    <tr>\n",
       "      <th>4</th>\n",
       "      <td>2022/05/30 6:02:10 pm EET</td>\n",
       "      <td>Yes</td>\n",
       "      <td>Ironhack</td>\n",
       "      <td>Offline</td>\n",
       "      <td>27.0</td>\n",
       "      <td>25-30</td>\n",
       "      <td>Portugal</td>\n",
       "      <td>Data analyst</td>\n",
       "      <td>Tech and Data related</td>\n",
       "      <td>Data Analytics</td>\n",
       "      <td>...</td>\n",
       "      <td>5.0</td>\n",
       "      <td>5.0</td>\n",
       "      <td>5.0</td>\n",
       "      <td>4.0</td>\n",
       "      <td>5.0</td>\n",
       "      <td>5.0</td>\n",
       "      <td>5.0</td>\n",
       "      <td>4.5</td>\n",
       "      <td>5.0</td>\n",
       "      <td>4.5</td>\n",
       "    </tr>\n",
       "    <tr>\n",
       "      <th>5</th>\n",
       "      <td>2022/05/30 6:27:06 pm EET</td>\n",
       "      <td>Yes</td>\n",
       "      <td>Ironhack</td>\n",
       "      <td>Online</td>\n",
       "      <td>34.0</td>\n",
       "      <td>30-35</td>\n",
       "      <td>Spain</td>\n",
       "      <td>Student</td>\n",
       "      <td>Other</td>\n",
       "      <td>Data Analytics</td>\n",
       "      <td>...</td>\n",
       "      <td>4.0</td>\n",
       "      <td>5.0</td>\n",
       "      <td>4.0</td>\n",
       "      <td>4.0</td>\n",
       "      <td>2.0</td>\n",
       "      <td>3.0</td>\n",
       "      <td>3.0</td>\n",
       "      <td>4.0</td>\n",
       "      <td>4.0</td>\n",
       "      <td>3.0</td>\n",
       "    </tr>\n",
       "    <tr>\n",
       "      <th>6</th>\n",
       "      <td>2022/05/30 6:31:26 pm EET</td>\n",
       "      <td>Yes</td>\n",
       "      <td>Ironhack</td>\n",
       "      <td>Online</td>\n",
       "      <td>33.0</td>\n",
       "      <td>30-35</td>\n",
       "      <td>Ireland</td>\n",
       "      <td>IT Sales</td>\n",
       "      <td>Other</td>\n",
       "      <td>Data Analytics</td>\n",
       "      <td>...</td>\n",
       "      <td>4.0</td>\n",
       "      <td>5.0</td>\n",
       "      <td>5.0</td>\n",
       "      <td>4.0</td>\n",
       "      <td>5.0</td>\n",
       "      <td>4.0</td>\n",
       "      <td>5.0</td>\n",
       "      <td>5.0</td>\n",
       "      <td>4.0</td>\n",
       "      <td>4.5</td>\n",
       "    </tr>\n",
       "  </tbody>\n",
       "</table>\n",
       "<p>5 rows × 25 columns</p>\n",
       "</div>"
      ],
      "text/plain": [
       "                   Timestamp Q1ATT    Q2NAME Q3ONLINE  Q4AGE Q4AGE_coded  \\\n",
       "2  2022/05/30 5:24:55 pm EET   Yes  Ironhack   Online   33.0       30-35   \n",
       "3  2022/05/30 5:53:16 pm EET   Yes  Ironhack   Online   24.0       20-25   \n",
       "4  2022/05/30 6:02:10 pm EET   Yes  Ironhack  Offline   27.0       25-30   \n",
       "5  2022/05/30 6:27:06 pm EET   Yes  Ironhack   Online   34.0       30-35   \n",
       "6  2022/05/30 6:31:26 pm EET   Yes  Ironhack   Online   33.0       30-35   \n",
       "\n",
       "  Q5COUNTRY         Q6PRO            Q6PRO_coded          Q7BOOT  ...  \\\n",
       "2    France    Freelancer                  Other  Data Analytics  ...   \n",
       "3     Spain       Student                  Other  Data Analytics  ...   \n",
       "4  Portugal  Data analyst  Tech and Data related  Data Analytics  ...   \n",
       "5     Spain       Student                  Other  Data Analytics  ...   \n",
       "6   Ireland      IT Sales                  Other  Data Analytics  ...   \n",
       "\n",
       "  Q13NETW2 Q14INT  Q15SAT  Q16ENG  Q17ENG2  Q18COURSE  Q19MOT  Skip_Final  \\\n",
       "2      4.0    5.0     4.0     4.0      4.0        4.0     4.0         4.0   \n",
       "3      4.0    5.0     5.0     5.0      5.0        4.0     5.0         4.0   \n",
       "4      5.0    5.0     5.0     4.0      5.0        5.0     5.0         4.5   \n",
       "5      4.0    5.0     4.0     4.0      2.0        3.0     3.0         4.0   \n",
       "6      4.0    5.0     5.0     4.0      5.0        4.0     5.0         5.0   \n",
       "\n",
       "   Netw_Final  Eng_Final  \n",
       "2         4.0        4.0  \n",
       "3         4.5        5.0  \n",
       "4         5.0        4.5  \n",
       "5         4.0        3.0  \n",
       "6         4.0        4.5  \n",
       "\n",
       "[5 rows x 25 columns]"
      ]
     },
     "execution_count": 19,
     "metadata": {},
     "output_type": "execute_result"
    }
   ],
   "source": [
    "data2.head()"
   ]
  },
  {
   "cell_type": "code",
   "execution_count": 21,
   "id": "d16f5188",
   "metadata": {},
   "outputs": [
    {
     "name": "stdout",
     "output_type": "stream",
     "text": [
      "<class 'pandas.core.frame.DataFrame'>\n",
      "Int64Index: 44 entries, 2 to 49\n",
      "Data columns (total 25 columns):\n",
      " #   Column       Non-Null Count  Dtype  \n",
      "---  ------       --------------  -----  \n",
      " 0   Timestamp    44 non-null     object \n",
      " 1   Q1ATT        44 non-null     object \n",
      " 2   Q2NAME       44 non-null     object \n",
      " 3   Q3ONLINE     44 non-null     object \n",
      " 4   Q4AGE        44 non-null     float64\n",
      " 5   Q4AGE_coded  44 non-null     object \n",
      " 6   Q5COUNTRY    44 non-null     object \n",
      " 7   Q6PRO        44 non-null     object \n",
      " 8   Q6PRO_coded  44 non-null     object \n",
      " 9   Q7BOOT       44 non-null     object \n",
      " 10  Q8GEN        44 non-null     object \n",
      " 11  Q9EDU        44 non-null     object \n",
      " 12  Q10SKIP      44 non-null     float64\n",
      " 13  Q11SKIP2     44 non-null     float64\n",
      " 14  Q12NETW      44 non-null     float64\n",
      " 15  Q13NETW2     44 non-null     float64\n",
      " 16  Q14INT       44 non-null     float64\n",
      " 17  Q15SAT       44 non-null     float64\n",
      " 18  Q16ENG       44 non-null     float64\n",
      " 19  Q17ENG2      44 non-null     float64\n",
      " 20  Q18COURSE    44 non-null     float64\n",
      " 21  Q19MOT       44 non-null     float64\n",
      " 22  Skip_Final   44 non-null     float64\n",
      " 23  Netw_Final   44 non-null     float64\n",
      " 24  Eng_Final    44 non-null     float64\n",
      "dtypes: float64(14), object(11)\n",
      "memory usage: 8.9+ KB\n"
     ]
    }
   ],
   "source": [
    "data2.info()"
   ]
  },
  {
   "cell_type": "code",
   "execution_count": 22,
   "id": "535af74b",
   "metadata": {},
   "outputs": [
    {
     "data": {
      "text/html": [
       "<div>\n",
       "<style scoped>\n",
       "    .dataframe tbody tr th:only-of-type {\n",
       "        vertical-align: middle;\n",
       "    }\n",
       "\n",
       "    .dataframe tbody tr th {\n",
       "        vertical-align: top;\n",
       "    }\n",
       "\n",
       "    .dataframe thead th {\n",
       "        text-align: right;\n",
       "    }\n",
       "</style>\n",
       "<table border=\"1\" class=\"dataframe\">\n",
       "  <thead>\n",
       "    <tr style=\"text-align: right;\">\n",
       "      <th></th>\n",
       "      <th>Q4AGE</th>\n",
       "      <th>Q10SKIP</th>\n",
       "      <th>Q11SKIP2</th>\n",
       "      <th>Q12NETW</th>\n",
       "      <th>Q13NETW2</th>\n",
       "      <th>Q14INT</th>\n",
       "      <th>Q15SAT</th>\n",
       "      <th>Q16ENG</th>\n",
       "      <th>Q17ENG2</th>\n",
       "      <th>Q18COURSE</th>\n",
       "      <th>Q19MOT</th>\n",
       "      <th>Skip_Final</th>\n",
       "      <th>Netw_Final</th>\n",
       "      <th>Eng_Final</th>\n",
       "    </tr>\n",
       "  </thead>\n",
       "  <tbody>\n",
       "    <tr>\n",
       "      <th>count</th>\n",
       "      <td>44.000000</td>\n",
       "      <td>44.000000</td>\n",
       "      <td>44.000000</td>\n",
       "      <td>44.000000</td>\n",
       "      <td>44.000000</td>\n",
       "      <td>44.000000</td>\n",
       "      <td>44.000000</td>\n",
       "      <td>44.000000</td>\n",
       "      <td>44.000000</td>\n",
       "      <td>44.000000</td>\n",
       "      <td>44.000000</td>\n",
       "      <td>44.000000</td>\n",
       "      <td>44.000000</td>\n",
       "      <td>44.000000</td>\n",
       "    </tr>\n",
       "    <tr>\n",
       "      <th>mean</th>\n",
       "      <td>30.931818</td>\n",
       "      <td>3.818182</td>\n",
       "      <td>3.522727</td>\n",
       "      <td>4.090909</td>\n",
       "      <td>4.318182</td>\n",
       "      <td>4.704545</td>\n",
       "      <td>4.477273</td>\n",
       "      <td>3.863636</td>\n",
       "      <td>4.295455</td>\n",
       "      <td>4.159091</td>\n",
       "      <td>4.090909</td>\n",
       "      <td>3.670455</td>\n",
       "      <td>4.204545</td>\n",
       "      <td>4.079545</td>\n",
       "    </tr>\n",
       "    <tr>\n",
       "      <th>std</th>\n",
       "      <td>5.461909</td>\n",
       "      <td>1.186606</td>\n",
       "      <td>1.151109</td>\n",
       "      <td>0.935556</td>\n",
       "      <td>0.883248</td>\n",
       "      <td>0.509425</td>\n",
       "      <td>0.698458</td>\n",
       "      <td>0.851562</td>\n",
       "      <td>0.764915</td>\n",
       "      <td>0.745317</td>\n",
       "      <td>0.935556</td>\n",
       "      <td>0.933505</td>\n",
       "      <td>0.749559</td>\n",
       "      <td>0.681510</td>\n",
       "    </tr>\n",
       "    <tr>\n",
       "      <th>min</th>\n",
       "      <td>20.000000</td>\n",
       "      <td>1.000000</td>\n",
       "      <td>1.000000</td>\n",
       "      <td>2.000000</td>\n",
       "      <td>2.000000</td>\n",
       "      <td>3.000000</td>\n",
       "      <td>2.000000</td>\n",
       "      <td>1.000000</td>\n",
       "      <td>2.000000</td>\n",
       "      <td>2.000000</td>\n",
       "      <td>2.000000</td>\n",
       "      <td>1.000000</td>\n",
       "      <td>2.000000</td>\n",
       "      <td>1.500000</td>\n",
       "    </tr>\n",
       "    <tr>\n",
       "      <th>25%</th>\n",
       "      <td>27.000000</td>\n",
       "      <td>3.000000</td>\n",
       "      <td>3.000000</td>\n",
       "      <td>4.000000</td>\n",
       "      <td>4.000000</td>\n",
       "      <td>4.000000</td>\n",
       "      <td>4.000000</td>\n",
       "      <td>4.000000</td>\n",
       "      <td>4.000000</td>\n",
       "      <td>4.000000</td>\n",
       "      <td>4.000000</td>\n",
       "      <td>3.000000</td>\n",
       "      <td>4.000000</td>\n",
       "      <td>4.000000</td>\n",
       "    </tr>\n",
       "    <tr>\n",
       "      <th>50%</th>\n",
       "      <td>32.000000</td>\n",
       "      <td>4.000000</td>\n",
       "      <td>4.000000</td>\n",
       "      <td>4.000000</td>\n",
       "      <td>4.500000</td>\n",
       "      <td>5.000000</td>\n",
       "      <td>5.000000</td>\n",
       "      <td>4.000000</td>\n",
       "      <td>4.000000</td>\n",
       "      <td>4.000000</td>\n",
       "      <td>4.000000</td>\n",
       "      <td>3.750000</td>\n",
       "      <td>4.500000</td>\n",
       "      <td>4.000000</td>\n",
       "    </tr>\n",
       "    <tr>\n",
       "      <th>75%</th>\n",
       "      <td>34.000000</td>\n",
       "      <td>5.000000</td>\n",
       "      <td>4.000000</td>\n",
       "      <td>5.000000</td>\n",
       "      <td>5.000000</td>\n",
       "      <td>5.000000</td>\n",
       "      <td>5.000000</td>\n",
       "      <td>4.000000</td>\n",
       "      <td>5.000000</td>\n",
       "      <td>5.000000</td>\n",
       "      <td>5.000000</td>\n",
       "      <td>4.500000</td>\n",
       "      <td>5.000000</td>\n",
       "      <td>4.500000</td>\n",
       "    </tr>\n",
       "    <tr>\n",
       "      <th>max</th>\n",
       "      <td>48.000000</td>\n",
       "      <td>5.000000</td>\n",
       "      <td>5.000000</td>\n",
       "      <td>5.000000</td>\n",
       "      <td>5.000000</td>\n",
       "      <td>5.000000</td>\n",
       "      <td>5.000000</td>\n",
       "      <td>5.000000</td>\n",
       "      <td>5.000000</td>\n",
       "      <td>5.000000</td>\n",
       "      <td>5.000000</td>\n",
       "      <td>5.000000</td>\n",
       "      <td>5.000000</td>\n",
       "      <td>5.000000</td>\n",
       "    </tr>\n",
       "  </tbody>\n",
       "</table>\n",
       "</div>"
      ],
      "text/plain": [
       "           Q4AGE    Q10SKIP   Q11SKIP2    Q12NETW   Q13NETW2     Q14INT  \\\n",
       "count  44.000000  44.000000  44.000000  44.000000  44.000000  44.000000   \n",
       "mean   30.931818   3.818182   3.522727   4.090909   4.318182   4.704545   \n",
       "std     5.461909   1.186606   1.151109   0.935556   0.883248   0.509425   \n",
       "min    20.000000   1.000000   1.000000   2.000000   2.000000   3.000000   \n",
       "25%    27.000000   3.000000   3.000000   4.000000   4.000000   4.000000   \n",
       "50%    32.000000   4.000000   4.000000   4.000000   4.500000   5.000000   \n",
       "75%    34.000000   5.000000   4.000000   5.000000   5.000000   5.000000   \n",
       "max    48.000000   5.000000   5.000000   5.000000   5.000000   5.000000   \n",
       "\n",
       "          Q15SAT     Q16ENG    Q17ENG2  Q18COURSE     Q19MOT  Skip_Final  \\\n",
       "count  44.000000  44.000000  44.000000  44.000000  44.000000   44.000000   \n",
       "mean    4.477273   3.863636   4.295455   4.159091   4.090909    3.670455   \n",
       "std     0.698458   0.851562   0.764915   0.745317   0.935556    0.933505   \n",
       "min     2.000000   1.000000   2.000000   2.000000   2.000000    1.000000   \n",
       "25%     4.000000   4.000000   4.000000   4.000000   4.000000    3.000000   \n",
       "50%     5.000000   4.000000   4.000000   4.000000   4.000000    3.750000   \n",
       "75%     5.000000   4.000000   5.000000   5.000000   5.000000    4.500000   \n",
       "max     5.000000   5.000000   5.000000   5.000000   5.000000    5.000000   \n",
       "\n",
       "       Netw_Final  Eng_Final  \n",
       "count   44.000000  44.000000  \n",
       "mean     4.204545   4.079545  \n",
       "std      0.749559   0.681510  \n",
       "min      2.000000   1.500000  \n",
       "25%      4.000000   4.000000  \n",
       "50%      4.500000   4.000000  \n",
       "75%      5.000000   4.500000  \n",
       "max      5.000000   5.000000  "
      ]
     },
     "execution_count": 22,
     "metadata": {},
     "output_type": "execute_result"
    }
   ],
   "source": [
    "data2.describe()"
   ]
  },
  {
   "cell_type": "code",
   "execution_count": 34,
   "id": "a8f28b25",
   "metadata": {},
   "outputs": [
    {
     "data": {
      "text/plain": [
       "Text(0.5, 1.0, 'Participation as per mode')"
      ]
     },
     "execution_count": 34,
     "metadata": {},
     "output_type": "execute_result"
    },
    {
     "data": {
      "image/png": "[encoded data removed]",
      "text/plain": [
       "<Figure size 432x288 with 1 Axes>"
      ]
     },
     "metadata": {
      "needs_background": "light"
     },
     "output_type": "display_data"
    }
   ],
   "source": [
    "sns.countplot(x=data2['Q3ONLINE'], data=data2).set_title('Participation as per mode')"
   ]
  },
  {
   "cell_type": "code",
   "execution_count": 32,
   "id": "3ed5db5e",
   "metadata": {
    "scrolled": true
   },
   "outputs": [
    {
     "data": {
      "text/plain": [
       "Text(0.5, 1.0, 'Participation as per age groups')"
      ]
     },
     "execution_count": 32,
     "metadata": {},
     "output_type": "execute_result"
    },
    {
     "data": {
      "image/png": "[encoded data removed]",
      "text/plain": [
       "<Figure size 432x288 with 1 Axes>"
      ]
     },
     "metadata": {
      "needs_background": "light"
     },
     "output_type": "display_data"
    }
   ],
   "source": [
    "sns.countplot(x=data2['Q4AGE_coded'], data=data2).set_title('Participation as per age groups')"
   ]
  },
  {
   "cell_type": "code",
   "execution_count": 33,
   "id": "5fe1707d",
   "metadata": {},
   "outputs": [
    {
     "data": {
      "text/plain": [
       "Text(0.5, 1.0, 'Participation as per profession')"
      ]
     },
     "execution_count": 33,
     "metadata": {},
     "output_type": "execute_result"
    },
    {
     "data": {
      "image/png": "[encoded data removed]",
      "text/plain": [
       "<Figure size 432x288 with 1 Axes>"
      ]
     },
     "metadata": {
      "needs_background": "light"
     },
     "output_type": "display_data"
    }
   ],
   "source": [
    "sns.countplot(x=data2['Q6PRO_coded'], data=data2).set_title('Participation as per profession')"
   ]
  },
  {
   "cell_type": "code",
   "execution_count": 35,
   "id": "7b2110c0",
   "metadata": {},
   "outputs": [
    {
     "data": {
      "text/plain": [
       "Text(0.5, 1.0, 'Participation as per bootcamp')"
      ]
     },
     "execution_count": 35,
     "metadata": {},
     "output_type": "execute_result"
    },
    {
     "data": {
      "image/png": "[encoded data removed]",
      "text/plain": [
       "<Figure size 432x288 with 1 Axes>"
      ]
     },
     "metadata": {
      "needs_background": "light"
     },
     "output_type": "display_data"
    }
   ],
   "source": [
    "sns.countplot(x=data2['Q7BOOT'], data=data2).set_title('Participation as per bootcamp')"
   ]
  },
  {
   "cell_type": "code",
   "execution_count": 36,
   "id": "912ed9c1",
   "metadata": {},
   "outputs": [
    {
     "data": {
      "text/plain": [
       "Text(0.5, 1.0, 'Participation as per gender')"
      ]
     },
     "execution_count": 36,
     "metadata": {},
     "output_type": "execute_result"
    },
    {
     "data": {
      "image/png": "[encoded data removed]",
      "text/plain": [
       "<Figure size 432x288 with 1 Axes>"
      ]
     },
     "metadata": {
      "needs_background": "light"
     },
     "output_type": "display_data"
    }
   ],
   "source": [
    "sns.countplot(x=data2['Q8GEN'], data=data2).set_title('Participation as per gender')"
   ]
  },
  {
   "cell_type": "code",
   "execution_count": 37,
   "id": "75e761f7",
   "metadata": {},
   "outputs": [
    {
     "data": {
      "text/plain": [
       "Text(0.5, 1.0, 'Participation as per gender')"
      ]
     },
     "execution_count": 37,
     "metadata": {},
     "output_type": "execute_result"
    },
    {
     "data": {
      "image/png": "[encoded data removed]",
      "text/plain": [
       "<Figure size 432x288 with 1 Axes>"
      ]
     },
     "metadata": {
      "needs_background": "light"
     },
     "output_type": "display_data"
    }
   ],
   "source": [
    "sns.countplot(x=data2['Q9EDU'], data=data2).set_title('Participation as per gender')"
   ]
  },
  {
   "cell_type": "code",
   "execution_count": 84,
   "id": "79f709ad",
   "metadata": {},
   "outputs": [],
   "source": [
    "data3=data2"
   ]
  },
  {
   "cell_type": "code",
   "execution_count": 86,
   "id": "8a1b7ae1",
   "metadata": {},
   "outputs": [
    {
     "data": {
      "text/html": [
       "<div>\n",
       "<style scoped>\n",
       "    .dataframe tbody tr th:only-of-type {\n",
       "        vertical-align: middle;\n",
       "    }\n",
       "\n",
       "    .dataframe tbody tr th {\n",
       "        vertical-align: top;\n",
       "    }\n",
       "\n",
       "    .dataframe thead th {\n",
       "        text-align: right;\n",
       "    }\n",
       "</style>\n",
       "<table border=\"1\" class=\"dataframe\">\n",
       "  <thead>\n",
       "    <tr style=\"text-align: right;\">\n",
       "      <th></th>\n",
       "      <th>Timestamp</th>\n",
       "      <th>Q1ATT</th>\n",
       "      <th>Q2NAME</th>\n",
       "      <th>Q3ONLINE</th>\n",
       "      <th>Q4AGE</th>\n",
       "      <th>Q4AGE_coded</th>\n",
       "      <th>Q5COUNTRY</th>\n",
       "      <th>Q6PRO</th>\n",
       "      <th>Q6PRO_coded</th>\n",
       "      <th>Q7BOOT</th>\n",
       "      <th>...</th>\n",
       "      <th>Q13NETW2</th>\n",
       "      <th>Q14INT</th>\n",
       "      <th>Q15SAT</th>\n",
       "      <th>Q16ENG</th>\n",
       "      <th>Q17ENG2</th>\n",
       "      <th>Q18COURSE</th>\n",
       "      <th>Q19MOT</th>\n",
       "      <th>Skip_Final</th>\n",
       "      <th>Netw_Final</th>\n",
       "      <th>Eng_Final</th>\n",
       "    </tr>\n",
       "  </thead>\n",
       "  <tbody>\n",
       "    <tr>\n",
       "      <th>2</th>\n",
       "      <td>2022/05/30 5:24:55 pm EET</td>\n",
       "      <td>Yes</td>\n",
       "      <td>Ironhack</td>\n",
       "      <td>Online</td>\n",
       "      <td>33.0</td>\n",
       "      <td>30-35</td>\n",
       "      <td>France</td>\n",
       "      <td>Freelancer</td>\n",
       "      <td>Other</td>\n",
       "      <td>Data Analytics</td>\n",
       "      <td>...</td>\n",
       "      <td>4.0</td>\n",
       "      <td>5.0</td>\n",
       "      <td>4.0</td>\n",
       "      <td>4.0</td>\n",
       "      <td>4.0</td>\n",
       "      <td>4.0</td>\n",
       "      <td>4.0</td>\n",
       "      <td>4.0</td>\n",
       "      <td>4.0</td>\n",
       "      <td>4.0</td>\n",
       "    </tr>\n",
       "    <tr>\n",
       "      <th>3</th>\n",
       "      <td>2022/05/30 5:53:16 pm EET</td>\n",
       "      <td>Yes</td>\n",
       "      <td>Ironhack</td>\n",
       "      <td>Online</td>\n",
       "      <td>24.0</td>\n",
       "      <td>20-25</td>\n",
       "      <td>Spain</td>\n",
       "      <td>Student</td>\n",
       "      <td>Other</td>\n",
       "      <td>Data Analytics</td>\n",
       "      <td>...</td>\n",
       "      <td>4.0</td>\n",
       "      <td>5.0</td>\n",
       "      <td>5.0</td>\n",
       "      <td>5.0</td>\n",
       "      <td>5.0</td>\n",
       "      <td>4.0</td>\n",
       "      <td>5.0</td>\n",
       "      <td>4.0</td>\n",
       "      <td>4.5</td>\n",
       "      <td>5.0</td>\n",
       "    </tr>\n",
       "    <tr>\n",
       "      <th>4</th>\n",
       "      <td>2022/05/30 6:02:10 pm EET</td>\n",
       "      <td>Yes</td>\n",
       "      <td>Ironhack</td>\n",
       "      <td>Offline</td>\n",
       "      <td>27.0</td>\n",
       "      <td>25-30</td>\n",
       "      <td>Portugal</td>\n",
       "      <td>Data analyst</td>\n",
       "      <td>Tech and Data related</td>\n",
       "      <td>Data Analytics</td>\n",
       "      <td>...</td>\n",
       "      <td>5.0</td>\n",
       "      <td>5.0</td>\n",
       "      <td>5.0</td>\n",
       "      <td>4.0</td>\n",
       "      <td>5.0</td>\n",
       "      <td>5.0</td>\n",
       "      <td>5.0</td>\n",
       "      <td>4.5</td>\n",
       "      <td>5.0</td>\n",
       "      <td>4.5</td>\n",
       "    </tr>\n",
       "    <tr>\n",
       "      <th>5</th>\n",
       "      <td>2022/05/30 6:27:06 pm EET</td>\n",
       "      <td>Yes</td>\n",
       "      <td>Ironhack</td>\n",
       "      <td>Online</td>\n",
       "      <td>34.0</td>\n",
       "      <td>30-35</td>\n",
       "      <td>Spain</td>\n",
       "      <td>Student</td>\n",
       "      <td>Other</td>\n",
       "      <td>Data Analytics</td>\n",
       "      <td>...</td>\n",
       "      <td>4.0</td>\n",
       "      <td>5.0</td>\n",
       "      <td>4.0</td>\n",
       "      <td>4.0</td>\n",
       "      <td>2.0</td>\n",
       "      <td>3.0</td>\n",
       "      <td>3.0</td>\n",
       "      <td>4.0</td>\n",
       "      <td>4.0</td>\n",
       "      <td>3.0</td>\n",
       "    </tr>\n",
       "    <tr>\n",
       "      <th>6</th>\n",
       "      <td>2022/05/30 6:31:26 pm EET</td>\n",
       "      <td>Yes</td>\n",
       "      <td>Ironhack</td>\n",
       "      <td>Online</td>\n",
       "      <td>33.0</td>\n",
       "      <td>30-35</td>\n",
       "      <td>Ireland</td>\n",
       "      <td>IT Sales</td>\n",
       "      <td>Other</td>\n",
       "      <td>Data Analytics</td>\n",
       "      <td>...</td>\n",
       "      <td>4.0</td>\n",
       "      <td>5.0</td>\n",
       "      <td>5.0</td>\n",
       "      <td>4.0</td>\n",
       "      <td>5.0</td>\n",
       "      <td>4.0</td>\n",
       "      <td>5.0</td>\n",
       "      <td>5.0</td>\n",
       "      <td>4.0</td>\n",
       "      <td>4.5</td>\n",
       "    </tr>\n",
       "  </tbody>\n",
       "</table>\n",
       "<p>5 rows × 25 columns</p>\n",
       "</div>"
      ],
      "text/plain": [
       "                   Timestamp Q1ATT    Q2NAME Q3ONLINE  Q4AGE Q4AGE_coded  \\\n",
       "2  2022/05/30 5:24:55 pm EET   Yes  Ironhack   Online   33.0       30-35   \n",
       "3  2022/05/30 5:53:16 pm EET   Yes  Ironhack   Online   24.0       20-25   \n",
       "4  2022/05/30 6:02:10 pm EET   Yes  Ironhack  Offline   27.0       25-30   \n",
       "5  2022/05/30 6:27:06 pm EET   Yes  Ironhack   Online   34.0       30-35   \n",
       "6  2022/05/30 6:31:26 pm EET   Yes  Ironhack   Online   33.0       30-35   \n",
       "\n",
       "  Q5COUNTRY         Q6PRO            Q6PRO_coded          Q7BOOT  ...  \\\n",
       "2    France    Freelancer                  Other  Data Analytics  ...   \n",
       "3     Spain       Student                  Other  Data Analytics  ...   \n",
       "4  Portugal  Data analyst  Tech and Data related  Data Analytics  ...   \n",
       "5     Spain       Student                  Other  Data Analytics  ...   \n",
       "6   Ireland      IT Sales                  Other  Data Analytics  ...   \n",
       "\n",
       "  Q13NETW2 Q14INT  Q15SAT  Q16ENG  Q17ENG2  Q18COURSE  Q19MOT  Skip_Final  \\\n",
       "2      4.0    5.0     4.0     4.0      4.0        4.0     4.0         4.0   \n",
       "3      4.0    5.0     5.0     5.0      5.0        4.0     5.0         4.0   \n",
       "4      5.0    5.0     5.0     4.0      5.0        5.0     5.0         4.5   \n",
       "5      4.0    5.0     4.0     4.0      2.0        3.0     3.0         4.0   \n",
       "6      4.0    5.0     5.0     4.0      5.0        4.0     5.0         5.0   \n",
       "\n",
       "   Netw_Final  Eng_Final  \n",
       "2         4.0        4.0  \n",
       "3         4.5        5.0  \n",
       "4         5.0        4.5  \n",
       "5         4.0        3.0  \n",
       "6         4.0        4.5  \n",
       "\n",
       "[5 rows x 25 columns]"
      ]
     },
     "execution_count": 86,
     "metadata": {},
     "output_type": "execute_result"
    }
   ],
   "source": [
    "data3.head()"
   ]
  },
  {
   "cell_type": "code",
   "execution_count": 93,
   "id": "ed69b4e9",
   "metadata": {},
   "outputs": [
    {
     "data": {
      "text/html": [
       "<div>\n",
       "<style scoped>\n",
       "    .dataframe tbody tr th:only-of-type {\n",
       "        vertical-align: middle;\n",
       "    }\n",
       "\n",
       "    .dataframe tbody tr th {\n",
       "        vertical-align: top;\n",
       "    }\n",
       "\n",
       "    .dataframe thead th {\n",
       "        text-align: right;\n",
       "    }\n",
       "</style>\n",
       "<table border=\"1\" class=\"dataframe\">\n",
       "  <thead>\n",
       "    <tr style=\"text-align: right;\">\n",
       "      <th></th>\n",
       "      <th>Q4AGE</th>\n",
       "      <th>Q10SKIP</th>\n",
       "      <th>Q11SKIP2</th>\n",
       "      <th>Q12NETW</th>\n",
       "      <th>Q13NETW2</th>\n",
       "      <th>Q14INT</th>\n",
       "      <th>Q15SAT</th>\n",
       "      <th>Q16ENG</th>\n",
       "      <th>Q17ENG2</th>\n",
       "      <th>Q18COURSE</th>\n",
       "      <th>Q19MOT</th>\n",
       "      <th>Skip_Final</th>\n",
       "      <th>Netw_Final</th>\n",
       "      <th>Eng_Final</th>\n",
       "    </tr>\n",
       "    <tr>\n",
       "      <th>Q3ONLINE</th>\n",
       "      <th></th>\n",
       "      <th></th>\n",
       "      <th></th>\n",
       "      <th></th>\n",
       "      <th></th>\n",
       "      <th></th>\n",
       "      <th></th>\n",
       "      <th></th>\n",
       "      <th></th>\n",
       "      <th></th>\n",
       "      <th></th>\n",
       "      <th></th>\n",
       "      <th></th>\n",
       "      <th></th>\n",
       "    </tr>\n",
       "  </thead>\n",
       "  <tbody>\n",
       "    <tr>\n",
       "      <th>Offline</th>\n",
       "      <td>30.00</td>\n",
       "      <td>3.578947</td>\n",
       "      <td>3.578947</td>\n",
       "      <td>4.315789</td>\n",
       "      <td>4.736842</td>\n",
       "      <td>4.842105</td>\n",
       "      <td>4.631579</td>\n",
       "      <td>3.789474</td>\n",
       "      <td>4.473684</td>\n",
       "      <td>4.315789</td>\n",
       "      <td>4.421053</td>\n",
       "      <td>3.578947</td>\n",
       "      <td>4.526316</td>\n",
       "      <td>4.131579</td>\n",
       "    </tr>\n",
       "    <tr>\n",
       "      <th>Online</th>\n",
       "      <td>31.64</td>\n",
       "      <td>4.000000</td>\n",
       "      <td>3.480000</td>\n",
       "      <td>3.920000</td>\n",
       "      <td>4.000000</td>\n",
       "      <td>4.600000</td>\n",
       "      <td>4.360000</td>\n",
       "      <td>3.920000</td>\n",
       "      <td>4.160000</td>\n",
       "      <td>4.040000</td>\n",
       "      <td>3.840000</td>\n",
       "      <td>3.740000</td>\n",
       "      <td>3.960000</td>\n",
       "      <td>4.040000</td>\n",
       "    </tr>\n",
       "  </tbody>\n",
       "</table>\n",
       "</div>"
      ],
      "text/plain": [
       "          Q4AGE   Q10SKIP  Q11SKIP2   Q12NETW  Q13NETW2    Q14INT    Q15SAT  \\\n",
       "Q3ONLINE                                                                      \n",
       "Offline   30.00  3.578947  3.578947  4.315789  4.736842  4.842105  4.631579   \n",
       "Online    31.64  4.000000  3.480000  3.920000  4.000000  4.600000  4.360000   \n",
       "\n",
       "            Q16ENG   Q17ENG2  Q18COURSE    Q19MOT  Skip_Final  Netw_Final  \\\n",
       "Q3ONLINE                                                                    \n",
       "Offline   3.789474  4.473684   4.315789  4.421053    3.578947    4.526316   \n",
       "Online    3.920000  4.160000   4.040000  3.840000    3.740000    3.960000   \n",
       "\n",
       "          Eng_Final  \n",
       "Q3ONLINE             \n",
       "Offline    4.131579  \n",
       "Online     4.040000  "
      ]
     },
     "execution_count": 93,
     "metadata": {},
     "output_type": "execute_result"
    }
   ],
   "source": [
    "data3.groupby('Q3ONLINE').mean()"
   ]
  },
  {
   "cell_type": "code",
   "execution_count": 23,
   "id": "1650bf21",
   "metadata": {},
   "outputs": [
    {
     "data": {
      "text/plain": [
       "Ttest_indResult(statistic=0.5794942989227923, pvalue=0.5653631498812779)"
      ]
     },
     "execution_count": 23,
     "metadata": {},
     "output_type": "execute_result"
    }
   ],
   "source": [
    "# Hypothesis testing (H1)\n",
    "# H0: Students attending classes online and offline have similar attendance\n",
    "# H1: Students attending classes online would have higher attendance than students attending classes offline\n",
    "# H0: can't be rejected\n",
    "# It seems online students have better attendance than online students but this difference is not statistically significant\n",
    "st.ttest_ind(data2['Skip_Final'][data2['Q3ONLINE'] == 'Online'], data2['Skip_Final'][data2['Q3ONLINE'] == 'Offline'], equal_var=False)"
   ]
  },
  {
   "cell_type": "code",
   "execution_count": 26,
   "id": "e74ca959",
   "metadata": {},
   "outputs": [
    {
     "data": {
      "text/plain": [
       "Ttest_indResult(statistic=0.5794942989227923, pvalue=0.28268157494063895)"
      ]
     },
     "execution_count": 26,
     "metadata": {},
     "output_type": "execute_result"
    }
   ],
   "source": [
    "st.ttest_ind(data2['Skip_Final'][data2['Q3ONLINE'] == 'Online'], data2['Skip_Final'][data2['Q3ONLINE'] == 'Offline'], equal_var=False, alternative = 'greater')"
   ]
  },
  {
   "cell_type": "code",
   "execution_count": 28,
   "id": "a867bbf6",
   "metadata": {
    "scrolled": true
   },
   "outputs": [
    {
     "data": {
      "text/plain": [
       "Text(0.5, 1.0, 'Box plot for attendance/unlikeliness to skip classes with respect to mode of classes')"
      ]
     },
     "execution_count": 28,
     "metadata": {},
     "output_type": "execute_result"
    },
    {
     "data": {
      "image/png": "[encoded data removed]",
      "text/plain": [
       "<Figure size 432x288 with 1 Axes>"
      ]
     },
     "metadata": {
      "needs_background": "light"
     },
     "output_type": "display_data"
    }
   ],
   "source": [
    "sns.boxplot(x=data2['Q3ONLINE'], y = data2['Skip_Final'], data= data2).set_title('Box plot for attendance/unlikeliness to skip classes with respect to mode of classes')"
   ]
  },
  {
   "cell_type": "code",
   "execution_count": 43,
   "id": "d6213b57",
   "metadata": {},
   "outputs": [
    {
     "data": {
      "text/plain": [
       "Text(0.5, 1.0, 'Bar plot for attendance/unlikeliness to skip classes with respect to mode of classes')"
      ]
     },
     "execution_count": 43,
     "metadata": {},
     "output_type": "execute_result"
    },
    {
     "data": {
      "image/png": "[encoded data removed]",
      "text/plain": [
       "<Figure size 576x576 with 1 Axes>"
      ]
     },
     "metadata": {},
     "output_type": "display_data"
    }
   ],
   "source": [
    "sns.barplot(y=data2['Skip_Final'], x=data2['Q3ONLINE'], data=data2).set_title('Bar plot for attendance/unlikeliness to skip classes with respect to mode of classes')"
   ]
  },
  {
   "cell_type": "code",
   "execution_count": 38,
   "id": "6f81bb75",
   "metadata": {},
   "outputs": [
    {
     "data": {
      "text/plain": [
       "Ttest_indResult(statistic=-2.75233826392921, pvalue=0.008700252161683408)"
      ]
     },
     "execution_count": 38,
     "metadata": {},
     "output_type": "execute_result"
    }
   ],
   "source": [
    "# Hypothesis testing (H2)\n",
    "# H0: Students attending classes online and offline would find it equally easy or difficult to network\n",
    "# H2: Students attending classes online would find it less easy to network than students attending classes offline\n",
    "\n",
    "# H0 is rejected\n",
    "st.ttest_ind(data2['Netw_Final'][data2['Q3ONLINE'] == 'Online'], data2['Netw_Final'][data2['Q3ONLINE'] == 'Offline'], equal_var=False)"
   ]
  },
  {
   "cell_type": "code",
   "execution_count": 45,
   "id": "a9d38046",
   "metadata": {},
   "outputs": [
    {
     "data": {
      "text/plain": [
       "Ttest_indResult(statistic=-2.75233826392921, pvalue=0.004350126080841704)"
      ]
     },
     "execution_count": 45,
     "metadata": {},
     "output_type": "execute_result"
    }
   ],
   "source": [
    "st.ttest_ind(data2['Netw_Final'][data2['Q3ONLINE'] == 'Online'], data2['Netw_Final'][data2['Q3ONLINE'] == 'Offline'], equal_var=False, alternative= 'less')"
   ]
  },
  {
   "cell_type": "code",
   "execution_count": 40,
   "id": "569913b7",
   "metadata": {},
   "outputs": [
    {
     "data": {
      "text/plain": [
       "Text(0.5, 1.0, 'Box plot for how easy it is to network with respect to mode of classes')"
      ]
     },
     "execution_count": 40,
     "metadata": {},
     "output_type": "execute_result"
    },
    {
     "data": {
      "image/png": "[encoded data removed]",
      "text/plain": [
       "<Figure size 576x576 with 1 Axes>"
      ]
     },
     "metadata": {},
     "output_type": "display_data"
    }
   ],
   "source": [
    "sns.set(rc={\"figure.figsize\":(8, 8)})\n",
    "sns.boxplot(x=data2['Q3ONLINE'], y = data2['Netw_Final'], data= data2).set_title('Box plot for how easy it is to network with respect to mode of classes')"
   ]
  },
  {
   "cell_type": "code",
   "execution_count": 44,
   "id": "74dc03de",
   "metadata": {},
   "outputs": [
    {
     "data": {
      "text/plain": [
       "Text(0.5, 1.0, 'Bar plot for how easy it is to network with respect to mode of classes')"
      ]
     },
     "execution_count": 44,
     "metadata": {},
     "output_type": "execute_result"
    },
    {
     "data": {
      "image/png": "[encoded data removed]",
      "text/plain": [
       "<Figure size 576x576 with 1 Axes>"
      ]
     },
     "metadata": {},
     "output_type": "display_data"
    }
   ],
   "source": [
    "sns.barplot(y=data2['Netw_Final'], x=data2['Q3ONLINE'], data=data2).set_title('Bar plot for how easy it is to network with respect to mode of classes')"
   ]
  },
  {
   "cell_type": "code",
   "execution_count": 46,
   "id": "133cdd3c",
   "metadata": {},
   "outputs": [
    {
     "data": {
      "text/plain": [
       "Ttest_indResult(statistic=-1.3717906912548548, pvalue=0.17770056906998385)"
      ]
     },
     "execution_count": 46,
     "metadata": {},
     "output_type": "execute_result"
    }
   ],
   "source": [
    "# Hypothesis testing (H3)\n",
    "# H0: Students attending classes online and offline would have similar levels of overall satisfaction\n",
    "# H3: Students attending classes online would have different level of overall satisfaction than students attending classes offline\n",
    "\n",
    "#HO: can't be rejected\n",
    "st.ttest_ind(data2['Q15SAT'][data2['Q3ONLINE'] == 'Online'], data2['Q15SAT'][data2['Q3ONLINE'] == 'Offline'], equal_var=False)"
   ]
  },
  {
   "cell_type": "code",
   "execution_count": 47,
   "id": "dc146d6b",
   "metadata": {},
   "outputs": [
    {
     "data": {
      "text/plain": [
       "Ttest_indResult(statistic=-1.3717906912548548, pvalue=0.08885028453499193)"
      ]
     },
     "execution_count": 47,
     "metadata": {},
     "output_type": "execute_result"
    }
   ],
   "source": [
    "st.ttest_ind(data2['Q15SAT'][data2['Q3ONLINE'] == 'Online'], data2['Q15SAT'][data2['Q3ONLINE'] == 'Offline'], equal_var=False, alternative='less')"
   ]
  },
  {
   "cell_type": "code",
   "execution_count": 48,
   "id": "8809c4b9",
   "metadata": {},
   "outputs": [
    {
     "data": {
      "text/plain": [
       "Text(0.5, 1.0, 'Box plot for overall satisfaction with classes with respect to mode of classes')"
      ]
     },
     "execution_count": 48,
     "metadata": {},
     "output_type": "execute_result"
    },
    {
     "data": {
      "image/png": "[encoded data removed]",
      "text/plain": [
       "<Figure size 576x576 with 1 Axes>"
      ]
     },
     "metadata": {},
     "output_type": "display_data"
    }
   ],
   "source": [
    "sns.boxplot(x=data2['Q3ONLINE'], y = data2['Q15SAT'], data= data2).set_title('Box plot for overall satisfaction with classes with respect to mode of classes')"
   ]
  },
  {
   "cell_type": "code",
   "execution_count": 49,
   "id": "5deaaf61",
   "metadata": {},
   "outputs": [
    {
     "data": {
      "text/plain": [
       "Text(0.5, 1.0, 'Bar plot for overall satisfaction with classes with respect to mode of classes')"
      ]
     },
     "execution_count": 49,
     "metadata": {},
     "output_type": "execute_result"
    },
    {
     "data": {
      "image/png": "[encoded data removed]",
      "text/plain": [
       "<Figure size 576x576 with 1 Axes>"
      ]
     },
     "metadata": {},
     "output_type": "display_data"
    }
   ],
   "source": [
    "sns.barplot(y=data2['Q15SAT'], x=data2['Q3ONLINE'], data=data2).set_title('Bar plot for overall satisfaction with classes with respect to mode of classes')"
   ]
  },
  {
   "cell_type": "code",
   "execution_count": 50,
   "id": "f3c9d8bc",
   "metadata": {},
   "outputs": [
    {
     "data": {
      "text/plain": [
       "Ttest_indResult(statistic=-1.5883067212684727, pvalue=0.12032446001247038)"
      ]
     },
     "execution_count": 50,
     "metadata": {},
     "output_type": "execute_result"
    }
   ],
   "source": [
    "# Hypothesis testing (H4)\n",
    "# H0: Students attending classes online and offline would experience a similar ease of interaction with the professor\n",
    "# H4: Students attending classes online would find it more difficult to interact with professor than students attending classes offline\n",
    "\n",
    "#HO: can't be rejected\n",
    "st.ttest_ind(data2['Q14INT'][data2['Q3ONLINE'] == 'Online'], data2['Q14INT'][data2['Q3ONLINE'] == 'Offline'], equal_var=False)"
   ]
  },
  {
   "cell_type": "code",
   "execution_count": 51,
   "id": "71a4c1c2",
   "metadata": {},
   "outputs": [
    {
     "data": {
      "text/plain": [
       "Ttest_indResult(statistic=-1.5883067212684727, pvalue=0.06016223000623519)"
      ]
     },
     "execution_count": 51,
     "metadata": {},
     "output_type": "execute_result"
    }
   ],
   "source": [
    "st.ttest_ind(data2['Q14INT'][data2['Q3ONLINE'] == 'Online'], data2['Q14INT'][data2['Q3ONLINE'] == 'Offline'], equal_var=False, alternative='less')"
   ]
  },
  {
   "cell_type": "code",
   "execution_count": 52,
   "id": "d53d5d4e",
   "metadata": {},
   "outputs": [
    {
     "data": {
      "text/plain": [
       "Text(0.5, 1.0, 'Box plot for ease of interaction with professor during different mode of classes')"
      ]
     },
     "execution_count": 52,
     "metadata": {},
     "output_type": "execute_result"
    },
    {
     "data": {
      "image/png": "[encoded data removed]",
      "text/plain": [
       "<Figure size 576x576 with 1 Axes>"
      ]
     },
     "metadata": {},
     "output_type": "display_data"
    }
   ],
   "source": [
    "sns.boxplot(x=data2['Q3ONLINE'], y = data2['Q14INT'], data= data2).set_title('Box plot for ease of interaction with professor during different mode of classes')"
   ]
  },
  {
   "cell_type": "code",
   "execution_count": 53,
   "id": "5103aa54",
   "metadata": {},
   "outputs": [
    {
     "data": {
      "text/plain": [
       "Text(0.5, 1.0, 'Bar plot for ease of interaction with professor during different mode of classes')"
      ]
     },
     "execution_count": 53,
     "metadata": {},
     "output_type": "execute_result"
    },
    {
     "data": {
      "image/png": "[encoded data removed]",
      "text/plain": [
       "<Figure size 576x576 with 1 Axes>"
      ]
     },
     "metadata": {},
     "output_type": "display_data"
    }
   ],
   "source": [
    "sns.barplot(y=data2['Q14INT'], x=data2['Q3ONLINE'], data=data2).set_title('Bar plot for ease of interaction with professor during different mode of classes')"
   ]
  },
  {
   "cell_type": "code",
   "execution_count": 54,
   "id": "c46ebefd",
   "metadata": {},
   "outputs": [
    {
     "data": {
      "text/plain": [
       "Ttest_indResult(statistic=-0.45461242990061324, pvalue=0.6517291762038292)"
      ]
     },
     "execution_count": 54,
     "metadata": {},
     "output_type": "execute_result"
    }
   ],
   "source": [
    "# Hypothesis testing (H5)\n",
    "# H0: Students attending classes online and offline would experience a similar a similar level of engagement\n",
    "# H5: Students attending classes online would experience a different level of engagement in class than students attending classes offline\n",
    "\n",
    "#HO: can't be rejected\n",
    "st.ttest_ind(data2['Eng_Final'][data2['Q3ONLINE'] == 'Online'], data2['Eng_Final'][data2['Q3ONLINE'] == 'Offline'], equal_var=False)"
   ]
  },
  {
   "cell_type": "code",
   "execution_count": 55,
   "id": "bc7f3c61",
   "metadata": {},
   "outputs": [
    {
     "data": {
      "text/plain": [
       "Text(0.5, 1.0, 'Box plot for level of engagement in class with respect to mode of classes')"
      ]
     },
     "execution_count": 55,
     "metadata": {},
     "output_type": "execute_result"
    },
    {
     "data": {
      "image/png": "[encoded data removed]",
      "text/plain": [
       "<Figure size 576x576 with 1 Axes>"
      ]
     },
     "metadata": {},
     "output_type": "display_data"
    }
   ],
   "source": [
    "sns.boxplot(x=data2['Q3ONLINE'], y = data2['Eng_Final'], data= data2).set_title('Box plot for level of engagement in class with respect to mode of classes')"
   ]
  },
  {
   "cell_type": "code",
   "execution_count": 56,
   "id": "84787cfe",
   "metadata": {},
   "outputs": [
    {
     "data": {
      "text/plain": [
       "Text(0.5, 1.0, 'Bar plot for level of engagement in class with respect to mode of classes')"
      ]
     },
     "execution_count": 56,
     "metadata": {},
     "output_type": "execute_result"
    },
    {
     "data": {
      "image/png": "[encoded data removed]",
      "text/plain": [
       "<Figure size 576x576 with 1 Axes>"
      ]
     },
     "metadata": {},
     "output_type": "display_data"
    }
   ],
   "source": [
    "sns.barplot(y=data2['Eng_Final'], x=data2['Q3ONLINE'], data=data2).set_title('Bar plot for level of engagement in class with respect to mode of classes')"
   ]
  },
  {
   "cell_type": "code",
   "execution_count": 57,
   "id": "f216d46e",
   "metadata": {},
   "outputs": [
    {
     "data": {
      "text/plain": [
       "Ttest_indResult(statistic=-0.5116950561968147, pvalue=0.6130638478807678)"
      ]
     },
     "execution_count": 57,
     "metadata": {},
     "output_type": "execute_result"
    }
   ],
   "source": [
    "# Hypothesis testing (H12)\n",
    "# H0: Students from tech and data related professions and students from non tech and data related professions would experience equal levels of overall satisfaction from the bootcamp classes\n",
    "# H12: Students from tech and data related professions would experience greater overall satisfaction from classes than students from non tech and data related professions\n",
    "\n",
    "#HO: can't be rejected\n",
    "st.ttest_ind(data2['Q15SAT'][data2['Q6PRO_coded'] == 'Tech and Data related'], data2['Q15SAT'][data2['Q6PRO_coded'] == 'Other'], equal_var=False)"
   ]
  },
  {
   "cell_type": "code",
   "execution_count": 59,
   "id": "09d87130",
   "metadata": {},
   "outputs": [
    {
     "data": {
      "text/plain": [
       "Text(0.5, 1.0, 'Box plot for level of overall satisfaction from classes with respect to profession of students')"
      ]
     },
     "execution_count": 59,
     "metadata": {},
     "output_type": "execute_result"
    },
    {
     "data": {
      "image/png": "[encoded data removed]",
      "text/plain": [
       "<Figure size 576x576 with 1 Axes>"
      ]
     },
     "metadata": {},
     "output_type": "display_data"
    }
   ],
   "source": [
    "sns.boxplot(x=data2['Q6PRO_coded'], y = data2['Q15SAT'], data= data2).set_title('Box plot for level of overall satisfaction from classes with respect to profession of students')"
   ]
  },
  {
   "cell_type": "code",
   "execution_count": 60,
   "id": "ade7204c",
   "metadata": {},
   "outputs": [
    {
     "data": {
      "text/plain": [
       "Text(0.5, 1.0, 'Bar plot for level of overall satisfaction from classes with respect to profession of students')"
      ]
     },
     "execution_count": 60,
     "metadata": {},
     "output_type": "execute_result"
    },
    {
     "data": {
      "image/png": "[encoded data removed]",
      "text/plain": [
       "<Figure size 576x576 with 1 Axes>"
      ]
     },
     "metadata": {},
     "output_type": "display_data"
    }
   ],
   "source": [
    "sns.barplot(y = data2['Q15SAT'], x=data2['Q6PRO_coded'], data= data2).set_title('Bar plot for level of overall satisfaction from classes with respect to profession of students')"
   ]
  },
  {
   "cell_type": "code",
   "execution_count": 61,
   "id": "1e4d6a62",
   "metadata": {},
   "outputs": [],
   "source": [
    "#def coding(x):\n",
    "#    if x < 3:\n",
    "#        return 'Low'\n",
    "#    elif x > 3:\n",
    "#        return 'High'\n",
    "#    else:\n",
    "#        return \"Don't Know\""
   ]
  },
  {
   "cell_type": "code",
   "execution_count": 62,
   "id": "7bdd6cbd",
   "metadata": {},
   "outputs": [],
   "source": [
    "#data2['Skip_Final_Coded'] = data2['Skip_Final'].apply(coding)"
   ]
  },
  {
   "cell_type": "code",
   "execution_count": 67,
   "id": "1f92e398",
   "metadata": {},
   "outputs": [],
   "source": [
    "#data2.drop('Skip_Final_Coded', axis=1, inplace=True)"
   ]
  },
  {
   "cell_type": "code",
   "execution_count": 68,
   "id": "8928df38",
   "metadata": {},
   "outputs": [
    {
     "data": {
      "text/html": [
       "<div>\n",
       "<style scoped>\n",
       "    .dataframe tbody tr th:only-of-type {\n",
       "        vertical-align: middle;\n",
       "    }\n",
       "\n",
       "    .dataframe tbody tr th {\n",
       "        vertical-align: top;\n",
       "    }\n",
       "\n",
       "    .dataframe thead th {\n",
       "        text-align: right;\n",
       "    }\n",
       "</style>\n",
       "<table border=\"1\" class=\"dataframe\">\n",
       "  <thead>\n",
       "    <tr style=\"text-align: right;\">\n",
       "      <th></th>\n",
       "      <th>Timestamp</th>\n",
       "      <th>Q1ATT</th>\n",
       "      <th>Q2NAME</th>\n",
       "      <th>Q3ONLINE</th>\n",
       "      <th>Q4AGE</th>\n",
       "      <th>Q4AGE_coded</th>\n",
       "      <th>Q5COUNTRY</th>\n",
       "      <th>Q6PRO</th>\n",
       "      <th>Q6PRO_coded</th>\n",
       "      <th>Q7BOOT</th>\n",
       "      <th>...</th>\n",
       "      <th>Q13NETW2</th>\n",
       "      <th>Q14INT</th>\n",
       "      <th>Q15SAT</th>\n",
       "      <th>Q16ENG</th>\n",
       "      <th>Q17ENG2</th>\n",
       "      <th>Q18COURSE</th>\n",
       "      <th>Q19MOT</th>\n",
       "      <th>Skip_Final</th>\n",
       "      <th>Netw_Final</th>\n",
       "      <th>Eng_Final</th>\n",
       "    </tr>\n",
       "  </thead>\n",
       "  <tbody>\n",
       "    <tr>\n",
       "      <th>2</th>\n",
       "      <td>2022/05/30 5:24:55 pm EET</td>\n",
       "      <td>Yes</td>\n",
       "      <td>Ironhack</td>\n",
       "      <td>Online</td>\n",
       "      <td>33.0</td>\n",
       "      <td>30-35</td>\n",
       "      <td>France</td>\n",
       "      <td>Freelancer</td>\n",
       "      <td>Other</td>\n",
       "      <td>Data Analytics</td>\n",
       "      <td>...</td>\n",
       "      <td>4.0</td>\n",
       "      <td>5.0</td>\n",
       "      <td>4.0</td>\n",
       "      <td>4.0</td>\n",
       "      <td>4.0</td>\n",
       "      <td>4.0</td>\n",
       "      <td>4.0</td>\n",
       "      <td>4.0</td>\n",
       "      <td>4.0</td>\n",
       "      <td>4.0</td>\n",
       "    </tr>\n",
       "    <tr>\n",
       "      <th>3</th>\n",
       "      <td>2022/05/30 5:53:16 pm EET</td>\n",
       "      <td>Yes</td>\n",
       "      <td>Ironhack</td>\n",
       "      <td>Online</td>\n",
       "      <td>24.0</td>\n",
       "      <td>20-25</td>\n",
       "      <td>Spain</td>\n",
       "      <td>Student</td>\n",
       "      <td>Other</td>\n",
       "      <td>Data Analytics</td>\n",
       "      <td>...</td>\n",
       "      <td>4.0</td>\n",
       "      <td>5.0</td>\n",
       "      <td>5.0</td>\n",
       "      <td>5.0</td>\n",
       "      <td>5.0</td>\n",
       "      <td>4.0</td>\n",
       "      <td>5.0</td>\n",
       "      <td>4.0</td>\n",
       "      <td>4.5</td>\n",
       "      <td>5.0</td>\n",
       "    </tr>\n",
       "    <tr>\n",
       "      <th>4</th>\n",
       "      <td>2022/05/30 6:02:10 pm EET</td>\n",
       "      <td>Yes</td>\n",
       "      <td>Ironhack</td>\n",
       "      <td>Offline</td>\n",
       "      <td>27.0</td>\n",
       "      <td>25-30</td>\n",
       "      <td>Portugal</td>\n",
       "      <td>Data analyst</td>\n",
       "      <td>Tech and Data related</td>\n",
       "      <td>Data Analytics</td>\n",
       "      <td>...</td>\n",
       "      <td>5.0</td>\n",
       "      <td>5.0</td>\n",
       "      <td>5.0</td>\n",
       "      <td>4.0</td>\n",
       "      <td>5.0</td>\n",
       "      <td>5.0</td>\n",
       "      <td>5.0</td>\n",
       "      <td>4.5</td>\n",
       "      <td>5.0</td>\n",
       "      <td>4.5</td>\n",
       "    </tr>\n",
       "    <tr>\n",
       "      <th>5</th>\n",
       "      <td>2022/05/30 6:27:06 pm EET</td>\n",
       "      <td>Yes</td>\n",
       "      <td>Ironhack</td>\n",
       "      <td>Online</td>\n",
       "      <td>34.0</td>\n",
       "      <td>30-35</td>\n",
       "      <td>Spain</td>\n",
       "      <td>Student</td>\n",
       "      <td>Other</td>\n",
       "      <td>Data Analytics</td>\n",
       "      <td>...</td>\n",
       "      <td>4.0</td>\n",
       "      <td>5.0</td>\n",
       "      <td>4.0</td>\n",
       "      <td>4.0</td>\n",
       "      <td>2.0</td>\n",
       "      <td>3.0</td>\n",
       "      <td>3.0</td>\n",
       "      <td>4.0</td>\n",
       "      <td>4.0</td>\n",
       "      <td>3.0</td>\n",
       "    </tr>\n",
       "    <tr>\n",
       "      <th>6</th>\n",
       "      <td>2022/05/30 6:31:26 pm EET</td>\n",
       "      <td>Yes</td>\n",
       "      <td>Ironhack</td>\n",
       "      <td>Online</td>\n",
       "      <td>33.0</td>\n",
       "      <td>30-35</td>\n",
       "      <td>Ireland</td>\n",
       "      <td>IT Sales</td>\n",
       "      <td>Other</td>\n",
       "      <td>Data Analytics</td>\n",
       "      <td>...</td>\n",
       "      <td>4.0</td>\n",
       "      <td>5.0</td>\n",
       "      <td>5.0</td>\n",
       "      <td>4.0</td>\n",
       "      <td>5.0</td>\n",
       "      <td>4.0</td>\n",
       "      <td>5.0</td>\n",
       "      <td>5.0</td>\n",
       "      <td>4.0</td>\n",
       "      <td>4.5</td>\n",
       "    </tr>\n",
       "  </tbody>\n",
       "</table>\n",
       "<p>5 rows × 25 columns</p>\n",
       "</div>"
      ],
      "text/plain": [
       "                   Timestamp Q1ATT    Q2NAME Q3ONLINE  Q4AGE Q4AGE_coded  \\\n",
       "2  2022/05/30 5:24:55 pm EET   Yes  Ironhack   Online   33.0       30-35   \n",
       "3  2022/05/30 5:53:16 pm EET   Yes  Ironhack   Online   24.0       20-25   \n",
       "4  2022/05/30 6:02:10 pm EET   Yes  Ironhack  Offline   27.0       25-30   \n",
       "5  2022/05/30 6:27:06 pm EET   Yes  Ironhack   Online   34.0       30-35   \n",
       "6  2022/05/30 6:31:26 pm EET   Yes  Ironhack   Online   33.0       30-35   \n",
       "\n",
       "  Q5COUNTRY         Q6PRO            Q6PRO_coded          Q7BOOT  ...  \\\n",
       "2    France    Freelancer                  Other  Data Analytics  ...   \n",
       "3     Spain       Student                  Other  Data Analytics  ...   \n",
       "4  Portugal  Data analyst  Tech and Data related  Data Analytics  ...   \n",
       "5     Spain       Student                  Other  Data Analytics  ...   \n",
       "6   Ireland      IT Sales                  Other  Data Analytics  ...   \n",
       "\n",
       "  Q13NETW2 Q14INT  Q15SAT  Q16ENG  Q17ENG2  Q18COURSE  Q19MOT  Skip_Final  \\\n",
       "2      4.0    5.0     4.0     4.0      4.0        4.0     4.0         4.0   \n",
       "3      4.0    5.0     5.0     5.0      5.0        4.0     5.0         4.0   \n",
       "4      5.0    5.0     5.0     4.0      5.0        5.0     5.0         4.5   \n",
       "5      4.0    5.0     4.0     4.0      2.0        3.0     3.0         4.0   \n",
       "6      4.0    5.0     5.0     4.0      5.0        4.0     5.0         5.0   \n",
       "\n",
       "   Netw_Final  Eng_Final  \n",
       "2         4.0        4.0  \n",
       "3         4.5        5.0  \n",
       "4         5.0        4.5  \n",
       "5         4.0        3.0  \n",
       "6         4.0        4.5  \n",
       "\n",
       "[5 rows x 25 columns]"
      ]
     },
     "execution_count": 68,
     "metadata": {},
     "output_type": "execute_result"
    }
   ],
   "source": [
    "data2.head()"
   ]
  },
  {
   "cell_type": "code",
   "execution_count": null,
   "id": "9e3f105a",
   "metadata": {},
   "outputs": [],
   "source": [
    "# Hypothesis testing (H6)\n",
    "# H0: Students with lower and higher attendance have equal overall satisfaction\n",
    "# H6: Students with lower attendance would have lower overall satisfaction than students with higher attendance\n",
    "#HO: can't be rejected\n",
    "#st.ttest_ind(data2['Q15SAT'][data2['Skip_Final'] < 3], data2['Q15SAT'][data2['Skip_Final'] == 'Other'], equal_var=False)"
   ]
  },
  {
   "cell_type": "code",
   "execution_count": 66,
   "id": "8f458dd5",
   "metadata": {
    "scrolled": true
   },
   "outputs": [
    {
     "data": {
      "text/plain": [
       "4.0    10\n",
       "3.0     9\n",
       "3.5     8\n",
       "4.5     6\n",
       "5.0     6\n",
       "2.5     2\n",
       "1.5     1\n",
       "2.0     1\n",
       "1.0     1\n",
       "Name: Skip_Final, dtype: int64"
      ]
     },
     "execution_count": 66,
     "metadata": {},
     "output_type": "execute_result"
    }
   ],
   "source": [
    "data2['Skip_Final'].value_counts()"
   ]
  },
  {
   "cell_type": "code",
   "execution_count": 70,
   "id": "ffea94d6",
   "metadata": {},
   "outputs": [
    {
     "data": {
      "text/plain": [
       "5.0    13\n",
       "4.0    12\n",
       "4.5    10\n",
       "3.0     6\n",
       "3.5     2\n",
       "2.0     1\n",
       "Name: Netw_Final, dtype: int64"
      ]
     },
     "execution_count": 70,
     "metadata": {},
     "output_type": "execute_result"
    }
   ],
   "source": [
    "data2['Netw_Final'].value_counts()"
   ]
  },
  {
   "cell_type": "code",
   "execution_count": 71,
   "id": "b89fd4e2",
   "metadata": {
    "scrolled": true
   },
   "outputs": [
    {
     "data": {
      "text/plain": [
       "4.0    16\n",
       "4.5    14\n",
       "5.0     5\n",
       "3.5     5\n",
       "3.0     2\n",
       "1.5     1\n",
       "2.5     1\n",
       "Name: Eng_Final, dtype: int64"
      ]
     },
     "execution_count": 71,
     "metadata": {},
     "output_type": "execute_result"
    }
   ],
   "source": [
    "data2['Eng_Final'].value_counts()"
   ]
  },
  {
   "cell_type": "code",
   "execution_count": 72,
   "id": "6b286e29",
   "metadata": {},
   "outputs": [
    {
     "data": {
      "text/plain": [
       "5.0    32\n",
       "4.0    11\n",
       "3.0     1\n",
       "Name: Q14INT, dtype: int64"
      ]
     },
     "execution_count": 72,
     "metadata": {},
     "output_type": "execute_result"
    }
   ],
   "source": [
    "data2['Q14INT'].value_counts()"
   ]
  },
  {
   "cell_type": "code",
   "execution_count": 74,
   "id": "87515720",
   "metadata": {},
   "outputs": [
    {
     "data": {
      "text/plain": [
       "4.0    25\n",
       "5.0    14\n",
       "3.0     3\n",
       "2.0     2\n",
       "Name: Q18COURSE, dtype: int64"
      ]
     },
     "execution_count": 74,
     "metadata": {},
     "output_type": "execute_result"
    }
   ],
   "source": [
    "data2['Q18COURSE'].value_counts()"
   ]
  },
  {
   "cell_type": "code",
   "execution_count": 75,
   "id": "091c83cf",
   "metadata": {},
   "outputs": [
    {
     "data": {
      "text/plain": [
       "4.0    18\n",
       "5.0    17\n",
       "3.0     5\n",
       "2.0     4\n",
       "Name: Q19MOT, dtype: int64"
      ]
     },
     "execution_count": 75,
     "metadata": {},
     "output_type": "execute_result"
    }
   ],
   "source": [
    "data2['Q19MOT'].value_counts()"
   ]
  },
  {
   "cell_type": "code",
   "execution_count": 69,
   "id": "228ffd6d",
   "metadata": {
    "scrolled": true
   },
   "outputs": [
    {
     "data": {
      "text/plain": [
       "<AxesSubplot:>"
      ]
     },
     "execution_count": 69,
     "metadata": {},
     "output_type": "execute_result"
    },
    {
     "data": {
      "image/png": "[encoded data removed]",
      "text/plain": [
       "<Figure size 576x576 with 2 Axes>"
      ]
     },
     "metadata": {},
     "output_type": "display_data"
    }
   ],
   "source": [
    "sns.heatmap(data2.corr(), square=True, cmap='RdYlGn')"
   ]
  },
  {
   "cell_type": "code",
   "execution_count": null,
   "id": "5248fbfd",
   "metadata": {},
   "outputs": [],
   "source": [
    "# For H6, H7, H8, H9, H10, H11\n",
    "# There is low to medium statistically significant correlation in each case"
   ]
  },
  {
   "cell_type": "code",
   "execution_count": 77,
   "id": "4d20da89",
   "metadata": {},
   "outputs": [
    {
     "name": "stdout",
     "output_type": "stream",
     "text": [
      "(0.3003377739479237, 0.047607193628401004)\n"
     ]
    }
   ],
   "source": [
    "corr1 = st.pearsonr(data2['Skip_Final'], data2['Q15SAT'])\n",
    "print(corr1)"
   ]
  },
  {
   "cell_type": "code",
   "execution_count": 78,
   "id": "76470a94",
   "metadata": {},
   "outputs": [
    {
     "name": "stdout",
     "output_type": "stream",
     "text": [
      "(0.4310824994348343, 0.0034851353564617155)\n"
     ]
    }
   ],
   "source": [
    "corr2 = st.pearsonr(data2['Netw_Final'], data2['Q15SAT'])\n",
    "print(corr2)"
   ]
  },
  {
   "cell_type": "code",
   "execution_count": 79,
   "id": "41f73787",
   "metadata": {},
   "outputs": [
    {
     "name": "stdout",
     "output_type": "stream",
     "text": [
      "(0.4055281911221276, 0.006315019572554402)\n"
     ]
    }
   ],
   "source": [
    "corr3 = st.pearsonr(data2['Q14INT'], data2['Q15SAT'])\n",
    "print(corr3)"
   ]
  },
  {
   "cell_type": "code",
   "execution_count": 80,
   "id": "125cc278",
   "metadata": {},
   "outputs": [
    {
     "name": "stdout",
     "output_type": "stream",
     "text": [
      "(0.3336652330697198, 0.026868076536523035)\n"
     ]
    }
   ],
   "source": [
    "corr4 = st.pearsonr(data2['Eng_Final'], data2['Q15SAT'])\n",
    "print(corr4)"
   ]
  },
  {
   "cell_type": "code",
   "execution_count": 81,
   "id": "6a997786",
   "metadata": {},
   "outputs": [
    {
     "name": "stdout",
     "output_type": "stream",
     "text": [
      "(0.5726671099542101, 4.863335171203376e-05)\n"
     ]
    }
   ],
   "source": [
    "corr5 = st.pearsonr(data2['Q19MOT'], data2['Q15SAT'])\n",
    "print(corr5)"
   ]
  },
  {
   "cell_type": "code",
   "execution_count": 82,
   "id": "b97ceb7c",
   "metadata": {},
   "outputs": [
    {
     "name": "stdout",
     "output_type": "stream",
     "text": [
      "(0.38683233312774246, 0.009488390650413953)\n"
     ]
    }
   ],
   "source": [
    "corr6 = st.pearsonr(data2['Q18COURSE'], data2['Q15SAT'])\n",
    "print(corr6)"
   ]
  },
  {
   "cell_type": "code",
   "execution_count": 92,
   "id": "fd470b53",
   "metadata": {},
   "outputs": [
    {
     "data": {
      "text/plain": [
       "Ttest_indResult(statistic=-2.2792410615271286, pvalue=0.028165212376096163)"
      ]
     },
     "execution_count": 92,
     "metadata": {},
     "output_type": "execute_result"
    }
   ],
   "source": [
    "# Offline students are more motivated than online students\n",
    "st.ttest_ind(data2['Q19MOT'][data2['Q3ONLINE'] == 'Online'], data2['Q19MOT'][data2['Q3ONLINE'] == 'Offline'], equal_var=False)"
   ]
  },
  {
   "cell_type": "code",
   "execution_count": 94,
   "id": "ccc78a6c",
   "metadata": {},
   "outputs": [],
   "source": [
    "data4=data2"
   ]
  },
  {
   "cell_type": "code",
   "execution_count": 95,
   "id": "d9849e44",
   "metadata": {},
   "outputs": [
    {
     "data": {
      "text/html": [
       "<div>\n",
       "<style scoped>\n",
       "    .dataframe tbody tr th:only-of-type {\n",
       "        vertical-align: middle;\n",
       "    }\n",
       "\n",
       "    .dataframe tbody tr th {\n",
       "        vertical-align: top;\n",
       "    }\n",
       "\n",
       "    .dataframe thead th {\n",
       "        text-align: right;\n",
       "    }\n",
       "</style>\n",
       "<table border=\"1\" class=\"dataframe\">\n",
       "  <thead>\n",
       "    <tr style=\"text-align: right;\">\n",
       "      <th></th>\n",
       "      <th>Q4AGE</th>\n",
       "      <th>Q10SKIP</th>\n",
       "      <th>Q11SKIP2</th>\n",
       "      <th>Q12NETW</th>\n",
       "      <th>Q13NETW2</th>\n",
       "      <th>Q14INT</th>\n",
       "      <th>Q15SAT</th>\n",
       "      <th>Q16ENG</th>\n",
       "      <th>Q17ENG2</th>\n",
       "      <th>Q18COURSE</th>\n",
       "      <th>Q19MOT</th>\n",
       "      <th>Skip_Final</th>\n",
       "      <th>Netw_Final</th>\n",
       "      <th>Eng_Final</th>\n",
       "    </tr>\n",
       "    <tr>\n",
       "      <th>Q6PRO_coded</th>\n",
       "      <th></th>\n",
       "      <th></th>\n",
       "      <th></th>\n",
       "      <th></th>\n",
       "      <th></th>\n",
       "      <th></th>\n",
       "      <th></th>\n",
       "      <th></th>\n",
       "      <th></th>\n",
       "      <th></th>\n",
       "      <th></th>\n",
       "      <th></th>\n",
       "      <th></th>\n",
       "      <th></th>\n",
       "    </tr>\n",
       "  </thead>\n",
       "  <tbody>\n",
       "    <tr>\n",
       "      <th>Other</th>\n",
       "      <td>30.689655</td>\n",
       "      <td>3.827586</td>\n",
       "      <td>3.586207</td>\n",
       "      <td>4.344828</td>\n",
       "      <td>4.482759</td>\n",
       "      <td>4.689655</td>\n",
       "      <td>4.517241</td>\n",
       "      <td>3.896552</td>\n",
       "      <td>4.310345</td>\n",
       "      <td>4.103448</td>\n",
       "      <td>4.137931</td>\n",
       "      <td>3.706897</td>\n",
       "      <td>4.413793</td>\n",
       "      <td>4.103448</td>\n",
       "    </tr>\n",
       "    <tr>\n",
       "      <th>Tech and Data related</th>\n",
       "      <td>31.400000</td>\n",
       "      <td>3.800000</td>\n",
       "      <td>3.400000</td>\n",
       "      <td>3.600000</td>\n",
       "      <td>4.000000</td>\n",
       "      <td>4.733333</td>\n",
       "      <td>4.400000</td>\n",
       "      <td>3.800000</td>\n",
       "      <td>4.266667</td>\n",
       "      <td>4.266667</td>\n",
       "      <td>4.000000</td>\n",
       "      <td>3.600000</td>\n",
       "      <td>3.800000</td>\n",
       "      <td>4.033333</td>\n",
       "    </tr>\n",
       "  </tbody>\n",
       "</table>\n",
       "</div>"
      ],
      "text/plain": [
       "                           Q4AGE   Q10SKIP  Q11SKIP2   Q12NETW  Q13NETW2  \\\n",
       "Q6PRO_coded                                                                \n",
       "Other                  30.689655  3.827586  3.586207  4.344828  4.482759   \n",
       "Tech and Data related  31.400000  3.800000  3.400000  3.600000  4.000000   \n",
       "\n",
       "                         Q14INT    Q15SAT    Q16ENG   Q17ENG2  Q18COURSE  \\\n",
       "Q6PRO_coded                                                                \n",
       "Other                  4.689655  4.517241  3.896552  4.310345   4.103448   \n",
       "Tech and Data related  4.733333  4.400000  3.800000  4.266667   4.266667   \n",
       "\n",
       "                         Q19MOT  Skip_Final  Netw_Final  Eng_Final  \n",
       "Q6PRO_coded                                                         \n",
       "Other                  4.137931    3.706897    4.413793   4.103448  \n",
       "Tech and Data related  4.000000    3.600000    3.800000   4.033333  "
      ]
     },
     "execution_count": 95,
     "metadata": {},
     "output_type": "execute_result"
    }
   ],
   "source": [
    "data4.groupby('Q6PRO_coded').mean()"
   ]
  },
  {
   "cell_type": "code",
   "execution_count": 96,
   "id": "a9bc9dde",
   "metadata": {},
   "outputs": [],
   "source": [
    "# saving the dataframe to an excel file\n",
    "file_name = 'data_for_tableau.xlsx'"
   ]
  },
  {
   "cell_type": "code",
   "execution_count": 97,
   "id": "8855d0e9",
   "metadata": {},
   "outputs": [
    {
     "name": "stdout",
     "output_type": "stream",
     "text": [
      "Your data has been successfully exported into an Excel File\n"
     ]
    }
   ],
   "source": [
    "data2.to_excel(file_name)\n",
    "print('Your data has been successfully exported into an Excel File')"
   ]
  },
  {
   "cell_type": "code",
   "execution_count": null,
   "id": "d5e7797c",
   "metadata": {},
   "outputs": [],
   "source": []
  }
 ],
 "metadata": {
  "kernelspec": {
   "display_name": "Python 3 (ipykernel)",
   "language": "python",
   "name": "python3"
  },
  "language_info": {
   "codemirror_mode": {
    "name": "ipython",
    "version": 3
   },
   "file_extension": ".py",
   "mimetype": "text/x-python",
   "name": "python",
   "nbconvert_exporter": "python",
   "pygments_lexer": "ipython3",
   "version": "3.8.8"
  }
 },
 "nbformat": 4,
 "nbformat_minor": 5
}
